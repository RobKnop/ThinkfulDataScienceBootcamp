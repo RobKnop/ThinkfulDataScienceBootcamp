{
 "cells": [
  {
   "cell_type": "code",
   "execution_count": 12,
   "metadata": {
    "run_control": {
     "frozen": false,
     "read_only": false
    }
   },
   "outputs": [],
   "source": [
    "import pandas as pd\n",
    "import numpy as np\n",
    "import scipy\n",
    "import matplotlib.pyplot as plt\n",
    "%matplotlib inline\n",
    "\n",
    "music = pd.DataFrame()\n",
    "music['duration'] = [184, 134, 243, 186, 122, 197, 294, 382, 102, 264, \n",
    "                     205, 110, 307, 110, 397, 153, 190, 192, 210, 403,\n",
    "                     164, 198, 204, 253, 234, 190, 182, 401, 376, 102]\n",
    "music['loudness'] = [18, 34, 43, 36, 22, 9, 29, 22, 10, 24, \n",
    "                     20, 10, 17, 51, 7, 13, 19, 12, 21, 22,\n",
    "                     16, 18, 4, 23, 34, 19, 14, 11, 37, 42]\n",
    "music['bpm'] = [ 105, 90, 78, 75, 120, 110, 80, 100, 105, 60,\n",
    "                  70, 105, 95, 70, 90, 105, 70, 75, 102, 100,\n",
    "                  100, 95, 90, 80, 90, 80, 100, 105, 70, 65]"
   ]
  },
  {
   "cell_type": "code",
   "execution_count": 22,
   "metadata": {
    "run_control": {
     "frozen": false,
     "read_only": false
    }
   },
   "outputs": [
    {
     "name": "stdout",
     "output_type": "stream",
     "text": [
      "\n",
      "k =  1\n",
      "Unweighted Accuracy: -0.42 (+/- 0.78)\n",
      "Weighted Accuracy: -1.54 (+/- 4.67)\n",
      "\n",
      "k =  2\n",
      "Unweighted Accuracy: -0.42 (+/- 0.78)\n",
      "Weighted Accuracy: -0.61 (+/- 2.20)\n",
      "\n",
      "k =  3\n",
      "Unweighted Accuracy: -0.42 (+/- 0.78)\n",
      "Weighted Accuracy: -0.59 (+/- 1.75)\n",
      "\n",
      "k =  4\n",
      "Unweighted Accuracy: -0.42 (+/- 0.78)\n",
      "Weighted Accuracy: -0.63 (+/- 1.64)\n",
      "\n",
      "k =  5\n",
      "Unweighted Accuracy: -0.42 (+/- 0.78)\n",
      "Weighted Accuracy: -0.51 (+/- 1.24)\n",
      "\n",
      "k =  6\n",
      "Unweighted Accuracy: -0.42 (+/- 0.78)\n",
      "Weighted Accuracy: -0.37 (+/- 0.88)\n",
      "\n",
      "k =  7\n",
      "Unweighted Accuracy: -0.42 (+/- 0.78)\n",
      "Weighted Accuracy: -0.30 (+/- 0.79)\n",
      "\n",
      "k =  8\n",
      "Unweighted Accuracy: -0.42 (+/- 0.78)\n",
      "Weighted Accuracy: -0.30 (+/- 0.80)\n",
      "\n",
      "k =  9\n",
      "Unweighted Accuracy: -0.42 (+/- 0.78)\n",
      "Weighted Accuracy: -0.27 (+/- 0.69)\n",
      "\n",
      "k =  10\n",
      "Unweighted Accuracy: -0.42 (+/- 0.78)\n",
      "Weighted Accuracy: -0.26 (+/- 0.74)\n"
     ]
    }
   ],
   "source": [
    "from sklearn.model_selection import cross_val_score\n",
    "from sklearn import neighbors\n",
    "\n",
    "for i in range(10):\n",
    "    \n",
    "    print('\\nk = ', i+1)\n",
    "    \n",
    "    X = music[['duration', 'loudness']]\n",
    "    Y = music.bpm\n",
    "    knn_w = neighbors.KNeighborsRegressor(n_neighbors=i+1)\n",
    "    knn_w.fit(X, Y)\n",
    "    \n",
    "    knn_w = neighbors.KNeighborsRegressor(n_neighbors=i+1, weights='distance')\n",
    "    knn_w.fit(X, Y)\n",
    "\n",
    "\n",
    "    score = cross_val_score(knn, X, Y, cv=5)\n",
    "    print(\"Unweighted Accuracy: %0.2f (+/- %0.2f)\" % (score.mean(), score.std() * 2))\n",
    "    score_w = cross_val_score(knn_w, X, Y, cv=5)\n",
    "    print(\"Weighted Accuracy: %0.2f (+/- %0.2f)\" % (score_w.mean(), score_w.std() * 2))\n"
   ]
  },
  {
   "cell_type": "code",
   "execution_count": null,
   "metadata": {},
   "outputs": [],
   "source": []
  }
 ],
 "metadata": {
  "hide_input": false,
  "kernelspec": {
   "display_name": "Python 3",
   "language": "python",
   "name": "python3"
  },
  "language_info": {
   "codemirror_mode": {
    "name": "ipython",
    "version": 3
   },
   "file_extension": ".py",
   "mimetype": "text/x-python",
   "name": "python",
   "nbconvert_exporter": "python",
   "pygments_lexer": "ipython3",
   "version": "3.7.1"
  },
  "toc": {
   "colors": {
    "hover_highlight": "#DAA520",
    "running_highlight": "#FF0000",
    "selected_highlight": "#FFD700"
   },
   "moveMenuLeft": true,
   "nav_menu": {
    "height": "68px",
    "width": "252px"
   },
   "navigate_menu": true,
   "number_sections": true,
   "sideBar": true,
   "threshold": 4,
   "toc_cell": false,
   "toc_section_display": "block",
   "toc_window_display": false
  }
 },
 "nbformat": 4,
 "nbformat_minor": 2
}
