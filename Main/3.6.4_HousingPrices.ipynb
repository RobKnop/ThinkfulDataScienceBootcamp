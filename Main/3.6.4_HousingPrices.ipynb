{
 "cells": [
  {
   "cell_type": "markdown",
   "metadata": {},
   "source": [
    " # Housing Prices\n",
    " ## Melbourne housing clearance data from Jan 2016\n",
    " Using this Kaggle data create a model to predict a house's value. We want to be able to understand what creates value in a house, as though we were a real estate developer."
   ]
  },
  {
   "cell_type": "code",
   "execution_count": 1,
   "metadata": {},
   "outputs": [],
   "source": [
    "import os\n",
    "from IPython import get_ipython\n",
    "import pandas as pd\n",
    "pd.set_option('float_format', '{:.2f}'.format)\n",
    "#import pandas_profiling as pp\n",
    "import numpy as np\n",
    "import scipy\n",
    "import matplotlib.pyplot as plt\n",
    "get_ipython().run_line_magic('matplotlib', 'inline')\n",
    "import seaborn as sns\n",
    "# Load models\n",
    "from sklearn import ensemble\n",
    "from sklearn.neighbors import KNeighborsRegressor\n",
    "from sklearn import linear_model\n",
    "from sklearn.svm import SVR\n",
    "from sklearn.naive_bayes import BernoulliNB\n",
    "\n",
    "from sklearn.feature_selection import SelectKBest\n",
    "from sklearn.preprocessing import MinMaxScaler\n",
    "from sklearn.utils import shuffle\n",
    "from sklearn.metrics import mean_squared_error\n",
    "from sklearn.model_selection import cross_val_score, GridSearchCV, train_test_split\n",
    "from sklearn.decomposition import PCA \n",
    "\n",
    "def rmse(predictions, targets):\n",
    "    return np.sqrt(((predictions - targets) ** 2).mean())\n"
   ]
  },
  {
   "cell_type": "markdown",
   "metadata": {},
   "source": [
    "### Content\n",
    "#### Soure: https://www.kaggle.com/anthonypino/melbourne-housing-market\n",
    "This data was scraped from publicly available results posted every week from Domain.com.au. The dataset includes Address, Type of Real estate, Suburb, Method of Selling, Rooms, Price, Real Estate Agent, Date of Sale and distance from C.B.D.\n",
    "\n",
    "#### Some Key Details\n",
    "* Suburb: Suburb\n",
    "* Address: Address\n",
    "* Rooms: Number of rooms\n",
    "* Price: Price in Australian dollars\n",
    "* Method: S - property sold; SP - property sold prior; PI - property passed in; PN - sold prior not disclosed; SN - sold not disclosed; NB - no bid; VB - vendor bid; W - withdrawn prior to auction; SA - sold after auction; SS - sold after auction price not disclosed. N/A - price or highest bid not available.\n",
    "* Type: br - bedroom(s); h - house,cottage,villa, semi,terrace; u - unit, duplex; t - townhouse; dev site - development site; o res - other residential.\n",
    "* SellerG: Real Estate Agent\n",
    "* Date: Date sold\n",
    "* Distance: Distance from CBD in Kilometres\n",
    "* Regionname: General Region (West, North West, North, North east ...etc)\n",
    "* Propertycount: Number of properties that exist in the suburb."
   ]
  },
  {
   "cell_type": "code",
   "execution_count": 2,
   "metadata": {},
   "outputs": [],
   "source": [
    "# Source: https://www.kaggle.com/anthonypino/melbourne-housing-market/downloads/melbourne-housing-market.zip/27\n",
    "df = pd.read_csv(\"MELBOURNE_HOUSE_PRICES_LESS.csv\")\n",
    "# pp.ProfileReport(df, check_correlation=True).to_file(outputfile=\"3.6.4_ProfileOfHousingPrices_RAW.html\")"
   ]
  },
  {
   "cell_type": "code",
   "execution_count": 3,
   "metadata": {},
   "outputs": [
    {
     "name": "stdout",
     "output_type": "stream",
     "text": [
      "               Rooms  Price  Postcode  Propertycount  Distance\n",
      "Rooms           1.00   0.41      0.09          -0.06      0.28\n",
      "Price           0.41   1.00      0.01          -0.06     -0.25\n",
      "Postcode        0.09   0.01      1.00           0.00      0.50\n",
      "Propertycount  -0.06  -0.06      0.00           1.00      0.00\n",
      "Distance        0.28  -0.25      0.50           0.00      1.00\n"
     ]
    },
    {
     "data": {
      "image/png": "[encoded data removed]",
      "text/plain": [
       "<Figure size 648x432 with 2 Axes>"
      ]
     },
     "metadata": {},
     "output_type": "display_data"
    }
   ],
   "source": [
    "# Drop ca. 25% of rows which have a lot of missing values\n",
    "df = df.dropna(subset=['Price'])\n",
    "# Drop unnecessary columns\n",
    "df = df.drop(columns=[\n",
    "    'Address', # too many distinct values\n",
    "    'Date' # not necessary \n",
    "])\n",
    "# Drop duplicated\n",
    "df = df.drop_duplicates() # Dataset has 2 duplicate rows\n",
    "\n",
    "# Do second data profile report on cleaned data\n",
    "# pp.ProfileReport(df, check_correlation=False, pool_size=15).to_file(outputfile=\"3.6.4_ProfileOfHousingPrices_CLEAN.html\")\n",
    "# See the webpage at: https://github.com/RobKnop/ThinkfulDataScienceBootcamp/blob/master/Main/3.6.4_ProfileOfHousingPrices_CLEAN.html\n",
    "\n",
    "# Make the correlation matrix.\n",
    "corrmat = df.corr()\n",
    "print(corrmat)\n",
    "\n",
    "# Set up the matplotlib figure.\n",
    "f, ax = plt.subplots(figsize=(9, 6))\n",
    "\n",
    "# Draw the heatmap using seaborn.\n",
    "sns.heatmap(corrmat, vmax=.8, square=True)\n",
    "plt.show()\n"
   ]
  },
  {
   "cell_type": "markdown",
   "metadata": {},
   "source": [
    " #### Findings\n",
    " 1. Correlation to y (Price) exists:\n",
    " 2. Multicollinearity is in general low"
   ]
  },
  {
   "cell_type": "markdown",
   "metadata": {},
   "source": [
    " #### Our key evaluation metric to optimize on is R^2"
   ]
  },
  {
   "cell_type": "markdown",
   "metadata": {},
   "source": [
    " #### Models to try:\n",
    " 1. Linear Regression\n",
    " 4. RandomForestRegressor\n",
    " 5. KNN\n",
    " 6. Support Vector Machine\n",
    " 7. GradientBoosting Regression\n",
    " 8. (Also use of KSelectBest, GridSearch, PCA)"
   ]
  },
  {
   "cell_type": "code",
   "execution_count": 4,
   "metadata": {},
   "outputs": [
    {
     "name": "stderr",
     "output_type": "stream",
     "text": [
      "/home/ec2-user/anaconda3/envs/python3/lib/python3.6/site-packages/sklearn/feature_selection/univariate_selection.py:115: RuntimeWarning: divide by zero encountered in true_divide\n",
      "  f = msb / msw\n"
     ]
    }
   ],
   "source": [
    "# Define X and y\n",
    "X = df.drop(columns=[\n",
    "                    'Price', # is the Y\n",
    "                    'Suburb', # is categorical \n",
    "                    'SellerG', # is categorical \n",
    "                    'Type', # is categorical \n",
    "                    'Regionname', # is categorical \n",
    "                    'Method', # is categorical \n",
    "                    'CouncilArea', # is categorical,\n",
    "                    'Postcode' # is categorical,\n",
    "                    ])\n",
    "X = pd.concat([X, pd.get_dummies(df['Suburb'])], axis=1)\n",
    "X = pd.concat([X, pd.get_dummies(df['SellerG'])], axis=1)\n",
    "X = pd.concat([X, pd.get_dummies(df['Type'])], axis=1)\n",
    "X = pd.concat([X, pd.get_dummies(df['Regionname'])], axis=1)\n",
    "X = pd.concat([X, pd.get_dummies(df['Method'])], axis=1)\n",
    "X = pd.concat([X, pd.get_dummies(df['CouncilArea'])], axis=1)\n",
    "X = pd.concat([X, pd.get_dummies(df['Postcode'])], axis=1)\n",
    "\n",
    "y = df['Price']\n",
    "\n",
    "#Try SelectKBest\n",
    "X_selKBest = SelectKBest(k=300).fit_transform(X, y)\n",
    "\n",
    "# Use PCA (but it is not working better)\n",
    "sklearn_pca = PCA(n_components=300)\n",
    "X_pca = sklearn_pca.fit_transform(X)\n",
    "\n",
    "# Split into train and test sets\n",
    "X_train, X_test, y_train, y_test = train_test_split(X_pca, y, test_size=0.2, random_state=20)"
   ]
  },
  {
   "cell_type": "code",
   "execution_count": 5,
   "metadata": {},
   "outputs": [
    {
     "name": "stdout",
     "output_type": "stream",
     "text": [
      "\n",
      "mean-squared:\n",
      "122543734878.8606\n",
      "rms error is: 350062.4728228667\n",
      "R^2 score:  0.6641821394463606\n"
     ]
    },
    {
     "name": "stderr",
     "output_type": "stream",
     "text": [
      "[Parallel(n_jobs=2)]: Using backend LokyBackend with 2 concurrent workers.\n"
     ]
    },
    {
     "name": "stdout",
     "output_type": "stream",
     "text": [
      "Cross Validated Score: 0.65 (+/- 0.03)\n"
     ]
    },
    {
     "name": "stderr",
     "output_type": "stream",
     "text": [
      "[Parallel(n_jobs=2)]: Done   5 out of   5 | elapsed:   12.4s finished\n"
     ]
    }
   ],
   "source": [
    "# Linear Regression: Instantiate and fit our model.\n",
    "regr = linear_model.LinearRegression()\n",
    "#print(data['Sales'].values)\n",
    "\n",
    "regr.fit(X_train, y_train)\n",
    "\n",
    "# Inspect the results.\n",
    "y_pred = regr.predict(X_test)\n",
    "print('\\nmean-squared:')\n",
    "print(mean_squared_error(y_test, y_pred))\n",
    "rmse_val = rmse(y_pred, y_test)\n",
    "print(\"rms error is: \" + str(rmse_val))\n",
    "print('R^2 score: ', regr.score(X_test, y_test)) \n",
    "'''\n",
    "SelectKBest:\n",
    "    mean-squared: 1.856840390039477e+17\n",
    "    rms error is: 430910708.85271317\n",
    "    R^2 score:  -508846.0396214517\n",
    "PCA:\n",
    "    mean-squared: 122860775174.52856\n",
    "    rms error is: 350515.0141927284\n",
    "    R^2 score:  0.6633133247827161\n",
    "'''\n",
    "\n",
    "score = cross_val_score(regr, X, y, cv=5, n_jobs=2, verbose=1)\n",
    "print(\"Cross Validated Score: %0.2f (+/- %0.2f)\" % (score.mean(), score.std() * 2))\n",
    "# Cross Validated Score: -100984196084.83 (+/- 391626543821.12)"
   ]
  },
  {
   "cell_type": "code",
   "execution_count": 6,
   "metadata": {},
   "outputs": [
    {
     "name": "stdout",
     "output_type": "stream",
     "text": [
      "\n",
      "k =  5\n",
      "KNN R^2 score:  0.7014093121118009\n",
      "KNN_dist R^2 score:  0.6710558334816799\n",
      "\n",
      "k =  6\n",
      "KNN R^2 score:  0.7064129505814168\n",
      "KNN_dist R^2 score:  0.6747098848039208\n",
      "\n",
      "k =  7\n",
      "KNN R^2 score:  0.7111650089094321\n",
      "KNN_dist R^2 score:  0.6766531841524128\n",
      "\n",
      "k =  8\n",
      "KNN R^2 score:  0.7132547118963987\n",
      "KNN_dist R^2 score:  0.6778336761097863\n",
      "\n",
      "k =  9\n",
      "KNN R^2 score:  0.7136270761913617\n",
      "KNN_dist R^2 score:  0.6788028150507541\n",
      "\n",
      "k =  10\n",
      "KNN R^2 score:  0.7145272990951117\n",
      "KNN_dist R^2 score:  0.6796816071048835\n",
      "\n",
      "k =  11\n",
      "KNN R^2 score:  0.7127739589559527\n",
      "KNN_dist R^2 score:  0.6786433343378238\n",
      "\n",
      "k =  12\n",
      "KNN R^2 score:  0.7122417252912688\n",
      "KNN_dist R^2 score:  0.6783618512798892\n",
      "\n",
      "k =  13\n",
      "KNN R^2 score:  0.7125661034209154\n",
      "KNN_dist R^2 score:  0.6780712939965223\n",
      "\n",
      "k =  14\n",
      "KNN R^2 score:  0.712794756959067\n",
      "KNN_dist R^2 score:  0.6782751324488101\n"
     ]
    }
   ],
   "source": [
    "# KNN:\n",
    "for k in range(5, 15, 1):\n",
    "    print('\\nk = ', k)\n",
    "    knn = KNeighborsRegressor(n_neighbors=k)\n",
    "    knn.fit(X_train, y_train)\n",
    "\n",
    "    print('KNN R^2 score: ', knn.score(X_test, y_test)) \n",
    "    knn_w = KNeighborsRegressor(n_neighbors=k, weights='distance')\n",
    "    knn_w.fit(X_train, y_train)\n",
    "    print('KNN_dist R^2 score: ', knn_w.score(X_test, y_test))"
   ]
  },
  {
   "cell_type": "code",
   "execution_count": null,
   "metadata": {},
   "outputs": [],
   "source": [
    "k = 10\n",
    "score = cross_val_score(KNeighborsRegressor(n_neighbors=k), X, y, cv=5, n_jobs=-1)\n",
    "print(\"Unweighted Accuracy: %0.2f (+/- %0.2f)\" % (score.mean(), score.std() * 2))\n",
    "score_w = cross_val_score(KNeighborsRegressor(n_neighbors=k, weights='distance'), X, y, cv=5, n_jobs=-1)\n",
    "print(\"Weighted Accuracy: %0.2f (+/- %0.2f)\" % (score_w.mean(), score_w.std() * 2))\n",
    "\"\"\"\n",
    "SelectKBest:\n",
    "    Best k =  7\n",
    "    KNN R^2 score:  0.7175245604677205\n",
    "    KNN_dist R^2 score:  0.6813617988109184\n",
    "PCA:\n",
    "    k =  10\n",
    "    KNN R^2 score:  0.7145272990951117\n",
    "    KNN_dist R^2 score:  0.6796816071048835\n",
    "\"\"\"\n"
   ]
  },
  {
   "cell_type": "code",
   "execution_count": 8,
   "metadata": {},
   "outputs": [
    {
     "name": "stdout",
     "output_type": "stream",
     "text": [
      "Fitting 3 folds for each of 81 candidates, totalling 243 fits\n"
     ]
    },
    {
     "name": "stderr",
     "output_type": "stream",
     "text": [
      "[Parallel(n_jobs=-1)]: Using backend LokyBackend with 36 concurrent workers.\n",
      "[Parallel(n_jobs=-1)]: Done 128 tasks      | elapsed:  2.5min\n",
      "[Parallel(n_jobs=-1)]: Done 243 out of 243 | elapsed:  4.9min finished\n",
      "[Parallel(n_jobs=-1)]: Using backend ThreadingBackend with 36 concurrent workers.\n",
      "[Parallel(n_jobs=-1)]: Done  58 out of  64 | elapsed:    2.9s remaining:    0.3s\n",
      "[Parallel(n_jobs=-1)]: Done  64 out of  64 | elapsed:    3.0s finished\n"
     ]
    },
    {
     "data": {
      "text/plain": [
       "RandomForestRegressor(bootstrap=True, criterion='mse', max_depth=13,\n",
       "           max_features='auto', max_leaf_nodes=None,\n",
       "           min_impurity_decrease=0.0, min_impurity_split=None,\n",
       "           min_samples_leaf=5, min_samples_split=5,\n",
       "           min_weight_fraction_leaf=0.0, n_estimators=64, n_jobs=-1,\n",
       "           oob_score=False, random_state=None, verbose=1, warm_start=False)"
      ]
     },
     "execution_count": 8,
     "metadata": {},
     "output_type": "execute_result"
    }
   ],
   "source": [
    "# RandomForestRegressor:\n",
    "# Random Forest: \n",
    "rfr = ensemble.RandomForestRegressor(n_jobs=-1, verbose=1)\n",
    "\n",
    "# Choose some parameter combinations to try\n",
    "parameters = {'n_estimators': [16, 32, 64], \n",
    "              #'max_features': ['log2', 'sqrt','auto'], \n",
    "              'max_depth': [5, 10, 13], \n",
    "              'min_samples_split': [2, 3, 5],\n",
    "              'min_samples_leaf': [1, 2, 5]\n",
    "             }\n",
    "\n",
    "# Run the grid search\n",
    "grid_obj = GridSearchCV(rfr, parameters, cv=3, n_jobs=-1, verbose=1)\n",
    "grid_obj.fit(X, y)\n",
    "\n",
    "# Set the clf to the best combination of parameters\n",
    "grid_obj.best_estimator_"
   ]
  },
  {
   "cell_type": "code",
   "execution_count": 9,
   "metadata": {},
   "outputs": [
    {
     "name": "stderr",
     "output_type": "stream",
     "text": [
      "[Parallel(n_jobs=-1)]: Using backend ThreadingBackend with 36 concurrent workers.\n",
      "[Parallel(n_jobs=-1)]: Done  27 out of  32 | elapsed:    8.3s remaining:    1.5s\n",
      "[Parallel(n_jobs=-1)]: Done  32 out of  32 | elapsed:    8.6s finished\n",
      "[Parallel(n_jobs=32)]: Using backend ThreadingBackend with 32 concurrent workers.\n",
      "[Parallel(n_jobs=32)]: Done   2 out of  32 | elapsed:    0.0s remaining:    0.1s\n",
      "[Parallel(n_jobs=32)]: Done  32 out of  32 | elapsed:    0.0s finished\n",
      "[Parallel(n_jobs=32)]: Using backend ThreadingBackend with 32 concurrent workers.\n",
      "[Parallel(n_jobs=32)]: Done   2 out of  32 | elapsed:    0.0s remaining:    0.1s\n",
      "[Parallel(n_jobs=32)]: Done  32 out of  32 | elapsed:    0.0s finished\n"
     ]
    },
    {
     "name": "stdout",
     "output_type": "stream",
     "text": [
      "\n",
      "mean-squared:\n",
      "98700676539.66922\n",
      "rms error is: 314166.6381710024\n",
      "RandomForest R^2 score:  0.7295214637980953\n",
      "Cross Validated Score: 0.73 (+/- 0.03)\n"
     ]
    }
   ],
   "source": [
    "# Run best model:\n",
    "rfr = ensemble.RandomForestRegressor(bootstrap=True, criterion='mse', max_depth=13,\n",
    "           max_features='auto', max_leaf_nodes=None,\n",
    "           min_impurity_decrease=0.0, min_impurity_split=None,\n",
    "           min_samples_leaf=5, min_samples_split=3,\n",
    "           min_weight_fraction_leaf=0.0, n_estimators=32, n_jobs=-1,\n",
    "           oob_score=False, random_state=None, verbose=1, warm_start=False)\n",
    "\n",
    "rfr.fit(X_train, y_train) \n",
    "y_pred = rfr.predict(X_test)\n",
    "print('\\nmean-squared:')\n",
    "print(mean_squared_error(y_test, y_pred))\n",
    "rmse_val = rmse(y_pred, y_test)\n",
    "print(\"rms error is: \" + str(rmse_val))\n",
    "print('RandomForest R^2 score: ', rfr.score(X_test, y_test)) \n",
    "'''\n",
    "SelectKBest:\n",
    "    mean-squared: 92676682719.69162\n",
    "    rms error is: 304428.452546229\n",
    "    RandomForest R^2 score:  0.7460295677710402\n",
    "PCA:\n",
    "    mean-squared: 99371423200.81209\n",
    "    rms error is: 315232.3320993773\n",
    "    RandomForest R^2 score:  0.7276833550694755\n",
    "'''\n",
    "score = cross_val_score(rfr, X, y, cv=5, n_jobs=-1)\n",
    "print(\"Cross Validated Score: %0.2f (+/- %0.2f)\" % (score.mean(), score.std() * 2))\n",
    "# Cross Validated Score: 0.73 (+/- 0.03)"
   ]
  },
  {
   "cell_type": "code",
   "execution_count": 5,
   "metadata": {},
   "outputs": [
    {
     "name": "stdout",
     "output_type": "stream",
     "text": [
      "[LibSVM]\n",
      "mean-squared:\n",
      "392972375356.1207\n",
      "rms error is: 626875.0875223251\n",
      "SVM R^2 score:  -0.0768983210706693\n"
     ]
    },
    {
     "data": {
      "text/plain": [
       "'\\nKSelectBest\\n    mean-squared: 392966474010.09644\\n    SVM R^2 score:  -0.07688214906972424\\nPCA:\\n    mean-squared: 392920464076.49603 \\n    rms error is: 626833.6813513582\\n    SVM R^2 score:  -0.07675606381957945\\n'"
      ]
     },
     "execution_count": 5,
     "metadata": {},
     "output_type": "execute_result"
    }
   ],
   "source": [
    "#SVM: \n",
    "svr = SVR(\n",
    "        kernel='rbf', \n",
    "        degree=3, \n",
    "        gamma='scale', \n",
    "        coef0=0.0, tol=0.001, \n",
    "        C=1.0, \n",
    "        epsilon=0.1, \n",
    "        shrinking=True, \n",
    "        cache_size=200, \n",
    "        verbose=1, \n",
    "        max_iter=-1\n",
    "        )\n",
    "\n",
    "svr.fit(X_train, y_train) \n",
    "y_pred = svr.predict(X_test)\n",
    "print('\\nmean-squared:')\n",
    "print(mean_squared_error(y_test, y_pred))\n",
    "rmse_val = rmse(y_pred, y_test)\n",
    "print(\"rms error is: \" + str(rmse_val))\n",
    "print('SVM R^2 score: ', svr.score(X_test, y_test)) \n",
    "'''\n",
    "KSelectBest\n",
    "    mean-squared: 392966474010.09644\n",
    "    SVM R^2 score:  -0.07688214906972424\n",
    "PCA:\n",
    "    mean-squared: 392920464076.49603 \n",
    "    rms error is: 626833.6813513582\n",
    "    SVM R^2 score:  -0.07675606381957945\n",
    "'''\n",
    "# score = cross_val_score(svr, X, y, cv=5, n_jobs=-1)\n",
    "# print(\"Cross Validated Score: %0.2f (+/- %0.2f)\" % (score.mean(), score.std() * 2))\n",
    "# No result, because never tried. R^2 is allready really bad"
   ]
  },
  {
   "cell_type": "code",
   "execution_count": 5,
   "metadata": {},
   "outputs": [
    {
     "name": "stdout",
     "output_type": "stream",
     "text": [
      "Fitting 3 folds for each of 27 candidates, totalling 81 fits\n"
     ]
    },
    {
     "name": "stderr",
     "output_type": "stream",
     "text": [
      "[Parallel(n_jobs=-1)]: Using backend LokyBackend with 36 concurrent workers.\n",
      "[Parallel(n_jobs=-1)]: Done  81 out of  81 | elapsed: 12.0min finished\n"
     ]
    },
    {
     "data": {
      "text/plain": [
       "GradientBoostingRegressor(alpha=0.9, criterion='friedman_mse', init=None,\n",
       "             learning_rate=0.1, loss='ls', max_depth=10, max_features=None,\n",
       "             max_leaf_nodes=None, min_impurity_decrease=0.0,\n",
       "             min_impurity_split=None, min_samples_leaf=5,\n",
       "             min_samples_split=5, min_weight_fraction_leaf=0.0,\n",
       "             n_estimators=40, n_iter_no_change=50, presort='auto',\n",
       "             random_state=None, subsample=1.0, tol=0.0001,\n",
       "             validation_fraction=0.1, verbose=0, warm_start=False)"
      ]
     },
     "execution_count": 5,
     "metadata": {},
     "output_type": "execute_result"
    }
   ],
   "source": [
    "# Gradient Boosting:\n",
    "gbr = ensemble.GradientBoostingRegressor(n_estimators=40, n_iter_no_change=50)\n",
    "\n",
    "# Choose some parameter combinations to try\n",
    "parameters = {\n",
    "              'max_depth': [3, 5, 10], \n",
    "              'min_samples_split': [2, 3, 5],\n",
    "              'min_samples_leaf': [1, 2, 5]\n",
    "             }\n",
    "\n",
    "# Run the grid search\n",
    "grid_obj = GridSearchCV(gbr, parameters, cv=3, n_jobs=-1, verbose=1)\n",
    "grid_obj.fit(X, y)\n",
    "\n",
    "# Set the clf to the best combination of parameters\n",
    "gbr = grid_obj.best_estimator_\n",
    "gbr"
   ]
  },
  {
   "cell_type": "code",
   "execution_count": 6,
   "metadata": {},
   "outputs": [
    {
     "name": "stdout",
     "output_type": "stream",
     "text": [
      "      Iter       Train Loss   Remaining Time \n",
      "         1 294624871976.7645            8.20m\n",
      "         2 251740351447.7878            8.18m\n",
      "         3 219403660835.7612            8.18m\n",
      "         4 198161859638.0079            8.14m\n",
      "         5 181559262095.7960            8.14m\n",
      "         6 169966467929.8924            8.12m\n",
      "         7 160022858563.6874            8.11m\n",
      "         8 151997265582.5010            8.10m\n",
      "         9 146112440412.3065            8.07m\n",
      "        10 141009994071.3567            8.06m\n",
      "        20 115709841334.4096            7.83m\n",
      "        30 105736061889.1082            7.68m\n",
      "        40 100728789562.7135            7.54m\n",
      "        50 96958141053.1474            7.38m\n",
      "        60 94175709839.3095            7.24m\n",
      "        70 91978887299.2244            7.09m\n",
      "        80 89532631938.2481            6.96m\n",
      "        90 87824124370.2314            6.82m\n",
      "       100 86674692203.2416            6.67m\n",
      "       200 77618284491.6246            5.31m\n",
      "\n",
      "mean-squared:\n",
      "98300171062.5238\n",
      "rms error is: 313528.5809340577\n",
      "Gradient Boost R^2 score:  0.73061900577042\n"
     ]
    },
    {
     "name": "stderr",
     "output_type": "stream",
     "text": [
      "[Parallel(n_jobs=-1)]: Using backend LokyBackend with 36 concurrent workers.\n"
     ]
    },
    {
     "name": "stdout",
     "output_type": "stream",
     "text": [
      "Cross Validated Score: 0.74 (+/- 0.03)\n"
     ]
    },
    {
     "name": "stderr",
     "output_type": "stream",
     "text": [
      "[Parallel(n_jobs=-1)]: Done   5 out of   5 | elapsed: 19.6min finished\n"
     ]
    }
   ],
   "source": [
    "#Run best model\n",
    "gbr = ensemble.GradientBoostingRegressor(\n",
    "                        loss='ls', \n",
    "                        learning_rate=0.2, \n",
    "                        n_estimators=600, \n",
    "                        subsample=1.0, \n",
    "                        criterion='friedman_mse', \n",
    "                        min_samples_split=5, \n",
    "                        min_samples_leaf=5, \n",
    "                        min_weight_fraction_leaf=0.0, \n",
    "                        max_depth=3, \n",
    "                        min_impurity_decrease=0.0, \n",
    "                        min_impurity_split=None, \n",
    "                        init=None, \n",
    "                        random_state=None, \n",
    "                        max_features=None, \n",
    "                        alpha=0.9, \n",
    "                        verbose=1, \n",
    "                        max_leaf_nodes=None, \n",
    "                        warm_start=False, \n",
    "                        presort='auto', \n",
    "                        validation_fraction=0.1, \n",
    "                        n_iter_no_change=50, \n",
    "                        tol=0.0001\n",
    "                        )\n",
    "gbr.fit(X_train, y_train) \n",
    "y_pred = gbr.predict(X_test)\n",
    "print('\\nmean-squared:')\n",
    "print(mean_squared_error(y_test, y_pred))\n",
    "rmse_val = rmse(y_pred, y_test)\n",
    "print(\"rms error is: \" + str(rmse_val))\n",
    "print('Gradient Boost R^2 score: ', gbr.score(X_test, y_test)) \n",
    "'''\n",
    "SelectKBest:\n",
    "    mean-squared: 93107157557.86372\n",
    "    Gradient Boost R^2 score:  0.7448498980039971\n",
    "PCA:\n",
    "    mean-squared: 96927080172.55779\n",
    "    rms error is: 311331.1423108163\n",
    "    Gradient Boost R^2 score:  0.7343818129467305\n",
    "'''\n",
    "\n",
    "score = cross_val_score(gbr, X, y, cv=5, n_jobs=-1, verbose=1)\n",
    "print(\"Cross Validated Score: %0.2f (+/- %0.2f)\" % (score.mean(), score.std() * 2))"
   ]
  },
  {
   "cell_type": "markdown",
   "metadata": {},
   "source": [
    "#### Final model evaluation:\n",
    "Both models (Random Forest and Gradient Boosting) performed best with R^2 score of 0.74.  \n",
    "Because Random Forest is faster to compute, this model would be chose over Gradient Boosting."
   ]
  }
 ],
 "metadata": {
  "file_extension": ".py",
  "kernelspec": {
   "display_name": "conda_python3",
   "language": "python",
   "name": "conda_python3"
  },
  "language_info": {
   "codemirror_mode": {
    "name": "ipython",
    "version": 3
   },
   "file_extension": ".py",
   "mimetype": "text/x-python",
   "name": "python",
   "nbconvert_exporter": "python",
   "pygments_lexer": "ipython3",
   "version": "3.6.5"
  },
  "mimetype": "text/x-python",
  "name": "python",
  "npconvert_exporter": "python",
  "pygments_lexer": "ipython3",
  "version": 3
 },
 "nbformat": 4,
 "nbformat_minor": 2
}
