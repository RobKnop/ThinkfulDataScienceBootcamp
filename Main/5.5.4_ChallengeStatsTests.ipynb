{
 "cells": [
  {
   "cell_type": "code",
   "execution_count": 1,
   "metadata": {},
   "outputs": [
    {
     "name": "stdout",
     "output_type": "stream",
     "text": [
      "/Users/robert/Documents/ThinkfulDSBootcampGIT\n"
     ]
    }
   ],
   "source": [
    "# Change directory to VSCode workspace root so that relative path loads work correctly. Turn this addition off with the DataScience.changeDirOnImportExport setting\n",
    "# ms-python.python added\n",
    "import os\n",
    "try:\n",
    "\tos.chdir(os.path.join(os.getcwd(), '..'))\n",
    "\tprint(os.getcwd())\n",
    "except:\n",
    "\tpass\n"
   ]
  },
  {
   "cell_type": "code",
   "execution_count": 2,
   "metadata": {},
   "outputs": [
    {
     "name": "stdout",
     "output_type": "stream",
     "text": [
      "/Users/robert/Documents/ThinkfulDSBootcampGIT/Main\n"
     ]
    }
   ],
   "source": [
    "import os\n",
    "try:\n",
    "\tos.chdir(os.path.join(os.getcwd(), 'Main'))\n",
    "\tprint(os.getcwd())\n",
    "except:\n",
    "\tpass\n",
    "\n",
    "import nltk\n",
    "import pandas as pd\n",
    "import pandas_profiling as pp\n",
    "import numpy as np\n",
    "pd.set_option('display.max_rows', 400)\n",
    "pd.set_option('float_format', '{:.2f}'.format)\n",
    "import re\n",
    "import codecs\n",
    "import matplotlib.pyplot as plt\n",
    "from matplotlib import pyplot\n",
    "import seaborn as sns\n",
    "import IPython\n",
    "from IPython import get_ipython\n",
    "get_ipython().run_line_magic('matplotlib', 'inline')\n",
    "import scipy.stats as stats\n"
   ]
  },
  {
   "cell_type": "code",
   "execution_count": 3,
   "metadata": {},
   "outputs": [],
   "source": [
    "df = pd.read_csv(\"data/ESSdata2_Thinkful.csv\")\n",
    "pp.ProfileReport(df).to_file(\"5.5.4_ChallengeStatsTests.html\")"
   ]
  },
  {
   "cell_type": "markdown",
   "metadata": {},
   "source": [
    " ## Task\n",
    " Using selected questions from the 2012 and 2014 editions of the European Social Survey, address the following questions. Keep track of your code and results in a Jupyter notebook or other source that you can share with your mentor. For each question, explain why you chose the approach you did.\n",
    "\n",
    " Here is the data file. And here is the codebook, with information about the variable coding and content.\n",
    "\n",
    " In this dataset, the same participants answered questions in 2012 and again 2014.\n",
    "\n",
    " 1. Did people become less trusting from 2012 to 2014? Compute results for each country in the sample.\n",
    " 2. Did people become happier from 2012 to 2014? Compute results for each country in the sample.\n",
    " 3. Who reported watching more TV in 2012, men or women?\n",
    " 4. Who was more likely to believe people were fair in 2012, people living with a partner or people living alone?\n",
    " 5. Pick three or four of the countries in the sample and compare how often people met socially in 2014. Are there differences, and if so, which countries stand out?\n",
    " 6. Pick three or four of the countries in the sample and compare how often people took part in social activities, relative to others their age, in 2014. Are there differences, and if so, which countries stand out?\n",
    "\n",
    "#### Assumption: Every variable is normally-distributed  (see the histograms in the profile report)"
   ]
  },
  {
   "cell_type": "code",
   "execution_count": 5,
   "metadata": {},
   "outputs": [
    {
     "name": "stdout",
     "output_type": "stream",
     "text": [
      "year\n",
      "6   5.56\n",
      "7   5.56\n",
      "Name: ppltrst, dtype: float64\n",
      "F value:  0.017483477224558622\n",
      "p-value : 0.894809 \n"
     ]
    }
   ],
   "source": [
    "# 1. Did people become less trusting from 2012 to 2014? Compute results for each country in the sample.\n",
    "\n",
    "print(df.groupby(['year'])['ppltrst'].mean())\n",
    "\n",
    "F, p = stats.f_oneway(\n",
    "    df[df['year'] == 7].ppltrst.dropna(),\n",
    "    df[df['year'] == 6].ppltrst.dropna()\n",
    ")\n",
    "\n",
    "# The F statistic.\n",
    "print('F value: ', F)\n",
    "\n",
    "# The probability. A p < .05 would lead us to believe the group means were\n",
    "# not all similar in the population.\n",
    "print(\"p-value : %0.6f \" % (p))\n"
   ]
  },
  {
   "cell_type": "markdown",
   "metadata": {},
   "source": [
    "### Answer: No difference in the trust score. So neither less nor higher."
   ]
  },
  {
   "cell_type": "code",
   "execution_count": 6,
   "metadata": {},
   "outputs": [
    {
     "name": "stdout",
     "output_type": "stream",
     "text": [
      "year\n",
      "6   7.72\n",
      "7   7.67\n",
      "Name: happy, dtype: float64\n",
      "F value:  2.3770447595199693\n",
      "p-value : 0.123167 \n"
     ]
    }
   ],
   "source": [
    "# 2. Did people become happier from 2012 to 2014? Compute results for each country in the sample.\n",
    "\n",
    "print(df.groupby(['year'])['happy'].mean())\n",
    "\n",
    "F, p = stats.f_oneway(\n",
    "    df[df['year'] == 7].happy.dropna(),\n",
    "    df[df['year'] == 6].happy.dropna()\n",
    ")\n",
    "\n",
    "# The F statistic.\n",
    "print('F value: ', F)\n",
    "\n",
    "# The probability. A p < .05 would lead us to believe the group means were\n",
    "# not all similar in the population.\n",
    "print(\"p-value : %0.6f \" % (p))"
   ]
  },
  {
   "cell_type": "markdown",
   "metadata": {},
   "source": [
    "### Answer: No, there is no statistically significant difference."
   ]
  },
  {
   "cell_type": "code",
   "execution_count": 7,
   "metadata": {},
   "outputs": [
    {
     "name": "stdout",
     "output_type": "stream",
     "text": [
      "gndr\n",
      "1.00   3.83\n",
      "2.00   3.89\n",
      "Name: tvtot, dtype: float64\n",
      "F value:  2.361674684980153\n",
      "p-value : 0.124386 \n"
     ]
    }
   ],
   "source": [
    "# 3. Who reported watching more TV in 2012, men or women?\n",
    "\n",
    "print(df.groupby(['gndr'])['tvtot'].mean())\n",
    "\n",
    "F, p = stats.f_oneway(\n",
    "    df[df['gndr'] == 1].tvtot.dropna(),\n",
    "    df[df['gndr'] == 2].tvtot.dropna()\n",
    ")\n",
    "\n",
    "# The F statistic.\n",
    "print('F value: ', F)\n",
    "\n",
    "# The probability. A p < .05 would lead us to believe the group means were\n",
    "# not all similar in the population.\n",
    "print(\"p-value : %0.6f \" % (p))"
   ]
  },
  {
   "cell_type": "markdown",
   "metadata": {},
   "source": [
    "### Answer: No, there is no statistically significant difference."
   ]
  },
  {
   "cell_type": "code",
   "execution_count": 8,
   "metadata": {},
   "outputs": [
    {
     "name": "stdout",
     "output_type": "stream",
     "text": [
      "partner\n",
      "1.00   6.08\n",
      "2.00   5.86\n",
      "Name: pplfair, dtype: float64\n",
      "F value:  11.023086567011378\n",
      "p-value : 0.000907 \n"
     ]
    }
   ],
   "source": [
    "# 4. Who was more likely to believe people were fair in 2012, \n",
    "# people living with a partner or people living alone?\n",
    "df_4 = df[df['year'] == 6] # filter for 2012\n",
    "\n",
    "print(df_4.groupby(['partner'])['pplfair'].mean())\n",
    "\n",
    "\n",
    "F, p = stats.f_oneway(\n",
    "    df_4[df_4['partner'] == 1].pplfair.dropna(),\n",
    "    df_4[df_4['partner'] == 2].pplfair.dropna()\n",
    ")\n",
    "\n",
    "# The F statistic.\n",
    "print('F value: ', F)\n",
    "\n",
    "# The probability. A p < .05 would lead us to believe the group means were\n",
    "# not all similar in the population.\n",
    "print(\"p-value : %0.6f \" % (p))"
   ]
  },
  {
   "cell_type": "markdown",
   "metadata": {},
   "source": [
    "### Answer: Who is living with a partner"
   ]
  },
  {
   "cell_type": "code",
   "execution_count": 9,
   "metadata": {},
   "outputs": [
    {
     "name": "stdout",
     "output_type": "stream",
     "text": [
      "cntry\n",
      "CH   2.78\n",
      "CZ   2.70\n",
      "DE   2.71\n",
      "ES   2.62\n",
      "NO   2.86\n",
      "SE   2.88\n",
      "Name: sclact, dtype: float64\n",
      "F value:  18.410519979585832\n",
      "p-value : 0.000000 \n"
     ]
    }
   ],
   "source": [
    "# 5. Pick three or four of the countries in the sample and compare how often people met socially in 2014. \n",
    "# Are there differences, and if so, which countries stand out?\n",
    "df_5 = df[df['year'] == 7] # filter for 2014\n",
    "\n",
    "print(df_5.groupby(['cntry'])['sclact'].mean())\n",
    "\n",
    "\n",
    "F, p = stats.f_oneway(\n",
    "    df_5[df_5['cntry'] == 'CH'].sclact.dropna(),\n",
    "    df_5[df_5['cntry'] == 'SE'].sclact.dropna(),\n",
    "    df_5[df_5['cntry'] == 'ES'].sclact.dropna(),\n",
    "    df_5[df_5['cntry'] == 'NO'].sclact.dropna()\n",
    ")\n",
    "\n",
    "# The F statistic.\n",
    "print('F value: ', F)\n",
    "\n",
    "# The probability. A p < .05 would lead us to believe the group means were\n",
    "# not all similar in the population.\n",
    "print(\"p-value : %0.6f \" % (p))"
   ]
  },
  {
   "cell_type": "markdown",
   "metadata": {},
   "source": [
    "### Answer: There is a statistically significant difference between countries. Sweden stands out."
   ]
  },
  {
   "cell_type": "code",
   "execution_count": 10,
   "metadata": {},
   "outputs": [
    {
     "name": "stdout",
     "output_type": "stream",
     "text": [
      "cntry  sclact\n",
      "CH     1.00     46.55\n",
      "       2.00     47.94\n",
      "       3.00     44.58\n",
      "       4.00     46.64\n",
      "       5.00     48.61\n",
      "CZ     1.00     48.84\n",
      "       2.00     46.73\n",
      "       3.00     44.34\n",
      "       4.00     45.46\n",
      "       5.00     43.11\n",
      "DE     1.00     85.00\n",
      "       2.00     59.00\n",
      "       3.00     58.33\n",
      "       4.00     49.00\n",
      "ES     1.00     56.39\n",
      "       2.00     47.86\n",
      "       3.00     44.68\n",
      "       4.00     47.80\n",
      "       5.00     49.52\n",
      "NO     1.00     50.67\n",
      "       2.00     46.58\n",
      "       3.00     45.86\n",
      "       4.00     50.04\n",
      "       5.00     40.52\n",
      "SE     1.00     52.62\n",
      "       2.00     49.45\n",
      "       3.00     49.07\n",
      "       4.00     48.63\n",
      "       5.00     55.86\n",
      "Name: agea, dtype: float64\n",
      "CH:\n",
      "F value:  1.1879173656769169\n",
      "p-value : 0.314715 \n",
      "NO:\n",
      "F value:  2.0049432269080536\n",
      "p-value : 0.092086 \n",
      "SE:\n",
      "F value:  0.9741065620402376\n",
      "p-value : 0.420793 \n"
     ]
    }
   ],
   "source": [
    "# 6. Pick three or four of the countries in the sample and compare how often people took part in social activities, \n",
    "# relative to others their age, in 2014. \n",
    "# Are there differences, and if so, which countries stand out?\n",
    "df_6 = df[df['year'] == 7] # filter for 2014\n",
    "\n",
    "print(df_6.groupby(['cntry', 'sclact'])['agea'].mean())\n",
    "\n",
    "print('CH:')\n",
    "df_CH = df_6[df_6['cntry'] == 'CH']\n",
    "\n",
    "F, p = stats.f_oneway(\n",
    "    df_CH[df_CH['sclact'] == 1].agea.dropna(),\n",
    "    df_CH[df_CH['sclact'] == 2].agea.dropna(),\n",
    "    df_CH[df_CH['sclact'] == 3].agea.dropna(),\n",
    "    df_CH[df_CH['sclact'] == 4].agea.dropna(),\n",
    "    df_CH[df_CH['sclact'] == 5].agea.dropna()\n",
    ")\n",
    "\n",
    "# The F statistic.\n",
    "print('F value: ', F)\n",
    "\n",
    "# The probability. A p < .05 would lead us to believe the group means were\n",
    "# not all similar in the population.\n",
    "print(\"p-value : %0.6f \" % (p))\n",
    "\n",
    "print('NO:')\n",
    "df_NO = df_6[df_6['cntry'] == 'NO']\n",
    "\n",
    "F, p = stats.f_oneway(\n",
    "    df_NO[df_NO['sclact'] == 1].agea.dropna(),\n",
    "    df_NO[df_NO['sclact'] == 2].agea.dropna(),\n",
    "    df_NO[df_NO['sclact'] == 3].agea.dropna(),\n",
    "    df_NO[df_NO['sclact'] == 4].agea.dropna(),\n",
    "    df_NO[df_NO['sclact'] == 5].agea.dropna()\n",
    ")\n",
    "\n",
    "# The F statistic.\n",
    "print('F value: ', F)\n",
    "\n",
    "# The probability. A p < .05 would lead us to believe the group means were\n",
    "# not all similar in the population.\n",
    "print(\"p-value : %0.6f \" % (p))\n",
    "\n",
    "print('SE:')\n",
    "df_SE = df_6[df_6['cntry'] == 'SE']\n",
    "\n",
    "F, p = stats.f_oneway(\n",
    "    df_SE[df_SE['sclact'] == 1].agea.dropna(),\n",
    "    df_SE[df_SE['sclact'] == 2].agea.dropna(),\n",
    "    df_SE[df_SE['sclact'] == 3].agea.dropna(),\n",
    "    df_SE[df_SE['sclact'] == 4].agea.dropna(),\n",
    "    df_SE[df_SE['sclact'] == 5].agea.dropna()\n",
    ")\n",
    "\n",
    "# The F statistic.\n",
    "print('F value: ', F)\n",
    "\n",
    "# The probability. A p < .05 would lead us to believe the group means were\n",
    "# not all similar in the population.\n",
    "print(\"p-value : %0.6f \" % (p))\n"
   ]
  },
  {
   "cell_type": "markdown",
   "metadata": {},
   "source": [
    "### Answer: There is a statistically significant difference between ages. No one stands out."
   ]
  }
 ],
 "metadata": {
  "file_extension": ".py",
  "kernelspec": {
   "display_name": "Python 3",
   "language": "python",
   "name": "python3"
  },
  "language_info": {
   "codemirror_mode": {
    "name": "ipython",
    "version": 3
   },
   "file_extension": ".py",
   "mimetype": "text/x-python",
   "name": "python",
   "nbconvert_exporter": "python",
   "pygments_lexer": "ipython3",
   "version": "3.7.4"
  },
  "mimetype": "text/x-python",
  "name": "python",
  "npconvert_exporter": "python",
  "pygments_lexer": "ipython3",
  "version": 3
 },
 "nbformat": 4,
 "nbformat_minor": 2
}
