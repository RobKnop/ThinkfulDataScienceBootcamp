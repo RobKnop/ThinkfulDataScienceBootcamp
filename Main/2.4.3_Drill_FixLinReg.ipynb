{
 "cells": [
  {
   "cell_type": "code",
   "execution_count": 3,
   "metadata": {
    "run_control": {
     "frozen": false,
     "read_only": false
    }
   },
   "outputs": [],
   "source": [
    "import math\n",
    "import warnings\n",
    "\n",
    "from IPython.display import display\n",
    "from matplotlib import pyplot as plt\n",
    "import numpy as np\n",
    "import pandas as pd\n",
    "import seaborn as sns\n",
    "from sklearn import linear_model\n",
    "#import statsmodels.formula.api as smf\n",
    "\n",
    "# Display preferences.\n",
    "%matplotlib inline\n",
    "pd.options.display.float_format = '{:.3f}'.format\n",
    "\n",
    "# Suppress annoying harmless error.\n",
    "warnings.filterwarnings(\n",
    "    action=\"ignore\",\n",
    "    module=\"scipy\",\n",
    "    message=\"^internal gelsd\"\n",
    ")"
   ]
  },
  {
   "cell_type": "code",
   "execution_count": 10,
   "metadata": {
    "run_control": {
     "frozen": false,
     "read_only": false
    }
   },
   "outputs": [
    {
     "name": "stdout",
     "output_type": "stream",
     "text": [
      "\n",
      "Coefficients: \n",
      " [[ 0.04576465  0.18853002 -0.00103749]]\n",
      "\n",
      "Intercept: \n",
      " [2.93888937]\n",
      "\n",
      "R-squared:\n",
      "0.8972106381789521\n"
     ]
    }
   ],
   "source": [
    "# Acquire, load, and preview the data.\n",
    "data = pd.read_csv('https://tf-curricula-prod.s3.amazonaws.com/data-science/Advertising.csv')\n",
    "\n",
    "# Instantiate and fit our model.\n",
    "regr = linear_model.LinearRegression()\n",
    "#print(data['Sales'].values)\n",
    "Y = data['Sales'].values.reshape(-1, 1)\n",
    "#print(Y)\n",
    "X = data[['TV','Radio','Newspaper']]\n",
    "regr.fit(X, Y)\n",
    "\n",
    "# Inspect the results.\n",
    "print('\\nCoefficients: \\n', regr.coef_)\n",
    "print('\\nIntercept: \\n', regr.intercept_)\n",
    "print('\\nR-squared:')\n",
    "print(regr.score(X, Y))"
   ]
  },
  {
   "cell_type": "code",
   "execution_count": 5,
   "metadata": {
    "run_control": {
     "frozen": false,
     "read_only": false
    }
   },
   "outputs": [
    {
     "data": {
      "image/png": "[encoded data removed]",
      "text/plain": [
       "<Figure size 432x288 with 1 Axes>"
      ]
     },
     "metadata": {
      "needs_background": "light"
     },
     "output_type": "display_data"
    }
   ],
   "source": [
    "# Extract predicted values.\n",
    "predicted = regr.predict(X).ravel()\n",
    "actual = data['Sales']\n",
    "\n",
    "# Calculate the error, also called the residual.\n",
    "residual = actual - predicted\n",
    "\n",
    "# This looks a bit concerning.\n",
    "plt.hist(residual)\n",
    "plt.title('Residual counts')\n",
    "plt.xlabel('Residual')\n",
    "plt.ylabel('Count')\n",
    "plt.show()"
   ]
  },
  {
   "cell_type": "markdown",
   "metadata": {
    "run_control": {
     "frozen": false,
     "read_only": false
    }
   },
   "source": [
    "\n",
    "### Assumption three: homoscedasticity"
   ]
  },
  {
   "cell_type": "code",
   "execution_count": 6,
   "metadata": {
    "run_control": {
     "frozen": false,
     "read_only": false
    }
   },
   "outputs": [
    {
     "data": {
      "image/png": "[encoded data removed]",
      "text/plain": [
       "<Figure size 432x288 with 1 Axes>"
      ]
     },
     "metadata": {
      "needs_background": "light"
     },
     "output_type": "display_data"
    }
   ],
   "source": [
    "plt.scatter(predicted, residual)\n",
    "plt.xlabel('Predicted')\n",
    "plt.ylabel('Residual')\n",
    "plt.axhline(y=0)\n",
    "plt.title('Residual vs. Predicted')\n",
    "plt.show()\n",
    "\n",
    "# Hm... looks a bit concerning."
   ]
  },
  {
   "cell_type": "markdown",
   "metadata": {},
   "source": [
    "## Drill: fixing assumptions\n",
    "\n",
    "Judging from the diagnostic plots, your data has a problem with both heteroscedasticity and multivariate non-normality.  Use the cell(s) below to see what you can do to fix it."
   ]
  },
  {
   "cell_type": "code",
   "execution_count": 7,
   "metadata": {
    "run_control": {
     "frozen": false,
     "read_only": false
    }
   },
   "outputs": [
    {
     "data": {
      "text/html": [
       "<div>\n",
       "<style scoped>\n",
       "    .dataframe tbody tr th:only-of-type {\n",
       "        vertical-align: middle;\n",
       "    }\n",
       "\n",
       "    .dataframe tbody tr th {\n",
       "        vertical-align: top;\n",
       "    }\n",
       "\n",
       "    .dataframe thead th {\n",
       "        text-align: right;\n",
       "    }\n",
       "</style>\n",
       "<table border=\"1\" class=\"dataframe\">\n",
       "  <thead>\n",
       "    <tr style=\"text-align: right;\">\n",
       "      <th></th>\n",
       "      <th>Unnamed: 0</th>\n",
       "      <th>TV</th>\n",
       "      <th>Radio</th>\n",
       "      <th>Newspaper</th>\n",
       "      <th>Sales</th>\n",
       "    </tr>\n",
       "  </thead>\n",
       "  <tbody>\n",
       "    <tr>\n",
       "      <th>count</th>\n",
       "      <td>200.000</td>\n",
       "      <td>200.000</td>\n",
       "      <td>200.000</td>\n",
       "      <td>200.000</td>\n",
       "      <td>200.000</td>\n",
       "    </tr>\n",
       "    <tr>\n",
       "      <th>mean</th>\n",
       "      <td>100.500</td>\n",
       "      <td>147.042</td>\n",
       "      <td>23.264</td>\n",
       "      <td>30.554</td>\n",
       "      <td>14.023</td>\n",
       "    </tr>\n",
       "    <tr>\n",
       "      <th>std</th>\n",
       "      <td>57.879</td>\n",
       "      <td>85.854</td>\n",
       "      <td>14.847</td>\n",
       "      <td>21.779</td>\n",
       "      <td>5.217</td>\n",
       "    </tr>\n",
       "    <tr>\n",
       "      <th>min</th>\n",
       "      <td>1.000</td>\n",
       "      <td>0.700</td>\n",
       "      <td>0.000</td>\n",
       "      <td>0.300</td>\n",
       "      <td>1.600</td>\n",
       "    </tr>\n",
       "    <tr>\n",
       "      <th>25%</th>\n",
       "      <td>50.750</td>\n",
       "      <td>74.375</td>\n",
       "      <td>9.975</td>\n",
       "      <td>12.750</td>\n",
       "      <td>10.375</td>\n",
       "    </tr>\n",
       "    <tr>\n",
       "      <th>50%</th>\n",
       "      <td>100.500</td>\n",
       "      <td>149.750</td>\n",
       "      <td>22.900</td>\n",
       "      <td>25.750</td>\n",
       "      <td>12.900</td>\n",
       "    </tr>\n",
       "    <tr>\n",
       "      <th>75%</th>\n",
       "      <td>150.250</td>\n",
       "      <td>218.825</td>\n",
       "      <td>36.525</td>\n",
       "      <td>45.100</td>\n",
       "      <td>17.400</td>\n",
       "    </tr>\n",
       "    <tr>\n",
       "      <th>max</th>\n",
       "      <td>200.000</td>\n",
       "      <td>296.400</td>\n",
       "      <td>49.600</td>\n",
       "      <td>114.000</td>\n",
       "      <td>27.000</td>\n",
       "    </tr>\n",
       "  </tbody>\n",
       "</table>\n",
       "</div>"
      ],
      "text/plain": [
       "       Unnamed: 0      TV   Radio  Newspaper   Sales\n",
       "count     200.000 200.000 200.000    200.000 200.000\n",
       "mean      100.500 147.042  23.264     30.554  14.023\n",
       "std        57.879  85.854  14.847     21.779   5.217\n",
       "min         1.000   0.700   0.000      0.300   1.600\n",
       "25%        50.750  74.375   9.975     12.750  10.375\n",
       "50%       100.500 149.750  22.900     25.750  12.900\n",
       "75%       150.250 218.825  36.525     45.100  17.400\n",
       "max       200.000 296.400  49.600    114.000  27.000"
      ]
     },
     "execution_count": 7,
     "metadata": {},
     "output_type": "execute_result"
    }
   ],
   "source": [
    "data.describe()"
   ]
  },
  {
   "cell_type": "markdown",
   "metadata": {},
   "source": [
    "### Fix multivariate normality"
   ]
  },
  {
   "cell_type": "code",
   "execution_count": 33,
   "metadata": {},
   "outputs": [
    {
     "name": "stdout",
     "output_type": "stream",
     "text": [
      "R-squared of new Linear Regression model:\n",
      "0.8912825999169766\n"
     ]
    },
    {
     "data": {
      "image/png": "[encoded data removed]",
      "text/plain": [
       "<Figure size 432x288 with 1 Axes>"
      ]
     },
     "metadata": {
      "needs_background": "light"
     },
     "output_type": "display_data"
    }
   ],
   "source": [
    "predicted = regr.predict(X).ravel()\n",
    "actual = data['Sales']\n",
    "\n",
    "# Calculate the error, also called the residual.\n",
    "residual = actual - predicted\n",
    "data['Residual'] = residual\n",
    "\n",
    "#create new dataset without outliers\n",
    "no_outliers = data[data['Residual'] > -3]\n",
    "no_outliers = no_outliers[no_outliers['Residual'] < 3]\n",
    "# Instantiate and fit our model.\n",
    "regr_2 = linear_model.LinearRegression()\n",
    "#print(data['Sales'].values)\n",
    "Y_2 = no_outliers['Sales'].values.reshape(-1, 1)\n",
    "#print(Y)\n",
    "X_2 = no_outliers[['TV','Radio','Newspaper']]\n",
    "regr_2.fit(X_2, Y_2)\n",
    "\n",
    "print('R-squared of new Linear Regression model:')\n",
    "print(regr_2.score(X, Y))\n",
    "\n",
    "# Extract predicted values.\n",
    "predicted_2 = regr_2.predict(X_2).ravel()\n",
    "actual_2 = no_outliers['Sales']\n",
    "\n",
    "# Calculate the error, also called the residual.\n",
    "residual_2 = actual_2 - predicted_2\n",
    "no_outliers['Residual_2'] = residual_2\n",
    "\n",
    "# This looks a bit concerning.\n",
    "plt.hist(residual_2)\n",
    "plt.title('Residual counts')\n",
    "plt.xlabel('Residual')\n",
    "plt.ylabel('Count')\n",
    "plt.show()"
   ]
  },
  {
   "cell_type": "markdown",
   "metadata": {},
   "source": [
    "### Fix homoscedasticity"
   ]
  },
  {
   "cell_type": "code",
   "execution_count": 26,
   "metadata": {},
   "outputs": [
    {
     "data": {
      "image/png": "[encoded data removed]",
      "text/plain": [
       "<Figure size 432x288 with 1 Axes>"
      ]
     },
     "metadata": {
      "needs_background": "light"
     },
     "output_type": "display_data"
    }
   ],
   "source": [
    "plt.scatter(predicted_2, residual_2)\n",
    "plt.xlabel('Predicted')\n",
    "plt.ylabel('Residual')\n",
    "plt.axhline(y=0)\n",
    "plt.title('Residual vs. Predicted')\n",
    "plt.show()\n"
   ]
  },
  {
   "cell_type": "code",
   "execution_count": 29,
   "metadata": {},
   "outputs": [
    {
     "data": {
      "text/html": [
       "<div>\n",
       "<style scoped>\n",
       "    .dataframe tbody tr th:only-of-type {\n",
       "        vertical-align: middle;\n",
       "    }\n",
       "\n",
       "    .dataframe tbody tr th {\n",
       "        vertical-align: top;\n",
       "    }\n",
       "\n",
       "    .dataframe thead th {\n",
       "        text-align: right;\n",
       "    }\n",
       "</style>\n",
       "<table border=\"1\" class=\"dataframe\">\n",
       "  <thead>\n",
       "    <tr style=\"text-align: right;\">\n",
       "      <th></th>\n",
       "      <th>Unnamed: 0</th>\n",
       "      <th>TV</th>\n",
       "      <th>Radio</th>\n",
       "      <th>Newspaper</th>\n",
       "      <th>Sales</th>\n",
       "      <th>Residual</th>\n",
       "      <th>Residual_2</th>\n",
       "    </tr>\n",
       "  </thead>\n",
       "  <tbody>\n",
       "    <tr>\n",
       "      <th>60</th>\n",
       "      <td>61</td>\n",
       "      <td>53.500</td>\n",
       "      <td>2.000</td>\n",
       "      <td>21.400</td>\n",
       "      <td>8.100</td>\n",
       "      <td>2.358</td>\n",
       "      <td>2.049</td>\n",
       "    </tr>\n",
       "    <tr>\n",
       "      <th>76</th>\n",
       "      <td>77</td>\n",
       "      <td>27.500</td>\n",
       "      <td>1.600</td>\n",
       "      <td>20.700</td>\n",
       "      <td>6.900</td>\n",
       "      <td>2.422</td>\n",
       "      <td>2.040</td>\n",
       "    </tr>\n",
       "    <tr>\n",
       "      <th>91</th>\n",
       "      <td>92</td>\n",
       "      <td>28.600</td>\n",
       "      <td>1.500</td>\n",
       "      <td>33.000</td>\n",
       "      <td>7.300</td>\n",
       "      <td>2.804</td>\n",
       "      <td>2.390</td>\n",
       "    </tr>\n",
       "    <tr>\n",
       "      <th>117</th>\n",
       "      <td>118</td>\n",
       "      <td>76.400</td>\n",
       "      <td>0.800</td>\n",
       "      <td>14.800</td>\n",
       "      <td>9.400</td>\n",
       "      <td>2.829</td>\n",
       "      <td>2.621</td>\n",
       "    </tr>\n",
       "    <tr>\n",
       "      <th>127</th>\n",
       "      <td>128</td>\n",
       "      <td>80.200</td>\n",
       "      <td>0.000</td>\n",
       "      <td>9.200</td>\n",
       "      <td>8.800</td>\n",
       "      <td>2.200</td>\n",
       "      <td>2.028</td>\n",
       "    </tr>\n",
       "    <tr>\n",
       "      <th>128</th>\n",
       "      <td>129</td>\n",
       "      <td>220.300</td>\n",
       "      <td>49.000</td>\n",
       "      <td>3.200</td>\n",
       "      <td>24.700</td>\n",
       "      <td>2.445</td>\n",
       "      <td>2.235</td>\n",
       "    </tr>\n",
       "    <tr>\n",
       "      <th>175</th>\n",
       "      <td>176</td>\n",
       "      <td>276.900</td>\n",
       "      <td>48.900</td>\n",
       "      <td>41.800</td>\n",
       "      <td>27.000</td>\n",
       "      <td>2.213</td>\n",
       "      <td>2.065</td>\n",
       "    </tr>\n",
       "  </tbody>\n",
       "</table>\n",
       "</div>"
      ],
      "text/plain": [
       "     Unnamed: 0      TV  Radio  Newspaper  Sales  Residual  Residual_2\n",
       "60           61  53.500  2.000     21.400  8.100     2.358       2.049\n",
       "76           77  27.500  1.600     20.700  6.900     2.422       2.040\n",
       "91           92  28.600  1.500     33.000  7.300     2.804       2.390\n",
       "117         118  76.400  0.800     14.800  9.400     2.829       2.621\n",
       "127         128  80.200  0.000      9.200  8.800     2.200       2.028\n",
       "128         129 220.300 49.000      3.200 24.700     2.445       2.235\n",
       "175         176 276.900 48.900     41.800 27.000     2.213       2.065"
      ]
     },
     "execution_count": 29,
     "metadata": {},
     "output_type": "execute_result"
    }
   ],
   "source": [
    "no_outliers[no_outliers['Residual_2'] > 2]"
   ]
  },
  {
   "cell_type": "code",
   "execution_count": 30,
   "metadata": {},
   "outputs": [
    {
     "data": {
      "text/html": [
       "<div>\n",
       "<style scoped>\n",
       "    .dataframe tbody tr th:only-of-type {\n",
       "        vertical-align: middle;\n",
       "    }\n",
       "\n",
       "    .dataframe tbody tr th {\n",
       "        vertical-align: top;\n",
       "    }\n",
       "\n",
       "    .dataframe thead th {\n",
       "        text-align: right;\n",
       "    }\n",
       "</style>\n",
       "<table border=\"1\" class=\"dataframe\">\n",
       "  <thead>\n",
       "    <tr style=\"text-align: right;\">\n",
       "      <th></th>\n",
       "      <th>Unnamed: 0</th>\n",
       "      <th>TV</th>\n",
       "      <th>Radio</th>\n",
       "      <th>Newspaper</th>\n",
       "      <th>Sales</th>\n",
       "      <th>Residual</th>\n",
       "      <th>Residual_2</th>\n",
       "    </tr>\n",
       "  </thead>\n",
       "  <tbody>\n",
       "    <tr>\n",
       "      <th>102</th>\n",
       "      <td>103</td>\n",
       "      <td>280.200</td>\n",
       "      <td>10.100</td>\n",
       "      <td>21.400</td>\n",
       "      <td>14.800</td>\n",
       "      <td>-2.844</td>\n",
       "      <td>-2.543</td>\n",
       "    </tr>\n",
       "    <tr>\n",
       "      <th>131</th>\n",
       "      <td>132</td>\n",
       "      <td>265.200</td>\n",
       "      <td>2.900</td>\n",
       "      <td>43.000</td>\n",
       "      <td>12.700</td>\n",
       "      <td>-2.878</td>\n",
       "      <td>-2.615</td>\n",
       "    </tr>\n",
       "    <tr>\n",
       "      <th>132</th>\n",
       "      <td>133</td>\n",
       "      <td>8.400</td>\n",
       "      <td>27.200</td>\n",
       "      <td>2.100</td>\n",
       "      <td>5.700</td>\n",
       "      <td>-2.749</td>\n",
       "      <td>-3.386</td>\n",
       "    </tr>\n",
       "    <tr>\n",
       "      <th>135</th>\n",
       "      <td>136</td>\n",
       "      <td>48.300</td>\n",
       "      <td>47.000</td>\n",
       "      <td>8.500</td>\n",
       "      <td>11.600</td>\n",
       "      <td>-2.401</td>\n",
       "      <td>-3.129</td>\n",
       "    </tr>\n",
       "    <tr>\n",
       "      <th>166</th>\n",
       "      <td>167</td>\n",
       "      <td>17.900</td>\n",
       "      <td>37.600</td>\n",
       "      <td>21.600</td>\n",
       "      <td>8.000</td>\n",
       "      <td>-2.824</td>\n",
       "      <td>-3.591</td>\n",
       "    </tr>\n",
       "    <tr>\n",
       "      <th>169</th>\n",
       "      <td>170</td>\n",
       "      <td>284.300</td>\n",
       "      <td>10.600</td>\n",
       "      <td>6.400</td>\n",
       "      <td>15.000</td>\n",
       "      <td>-2.942</td>\n",
       "      <td>-2.589</td>\n",
       "    </tr>\n",
       "    <tr>\n",
       "      <th>188</th>\n",
       "      <td>189</td>\n",
       "      <td>286.000</td>\n",
       "      <td>13.900</td>\n",
       "      <td>3.700</td>\n",
       "      <td>15.900</td>\n",
       "      <td>-2.744</td>\n",
       "      <td>-2.411</td>\n",
       "    </tr>\n",
       "  </tbody>\n",
       "</table>\n",
       "</div>"
      ],
      "text/plain": [
       "     Unnamed: 0      TV  Radio  Newspaper  Sales  Residual  Residual_2\n",
       "102         103 280.200 10.100     21.400 14.800    -2.844      -2.543\n",
       "131         132 265.200  2.900     43.000 12.700    -2.878      -2.615\n",
       "132         133   8.400 27.200      2.100  5.700    -2.749      -3.386\n",
       "135         136  48.300 47.000      8.500 11.600    -2.401      -3.129\n",
       "166         167  17.900 37.600     21.600  8.000    -2.824      -3.591\n",
       "169         170 284.300 10.600      6.400 15.000    -2.942      -2.589\n",
       "188         189 286.000 13.900      3.700 15.900    -2.744      -2.411"
      ]
     },
     "execution_count": 30,
     "metadata": {},
     "output_type": "execute_result"
    }
   ],
   "source": [
    "no_outliers[no_outliers['Residual'] < -2.4]"
   ]
  },
  {
   "cell_type": "code",
   "execution_count": 31,
   "metadata": {},
   "outputs": [
    {
     "data": {
      "text/html": [
       "<div>\n",
       "<style scoped>\n",
       "    .dataframe tbody tr th:only-of-type {\n",
       "        vertical-align: middle;\n",
       "    }\n",
       "\n",
       "    .dataframe tbody tr th {\n",
       "        vertical-align: top;\n",
       "    }\n",
       "\n",
       "    .dataframe thead th {\n",
       "        text-align: right;\n",
       "    }\n",
       "</style>\n",
       "<table border=\"1\" class=\"dataframe\">\n",
       "  <thead>\n",
       "    <tr style=\"text-align: right;\">\n",
       "      <th></th>\n",
       "      <th>Unnamed: 0</th>\n",
       "      <th>TV</th>\n",
       "      <th>Radio</th>\n",
       "      <th>Newspaper</th>\n",
       "      <th>Sales</th>\n",
       "      <th>Residual</th>\n",
       "      <th>Residual_2</th>\n",
       "    </tr>\n",
       "  </thead>\n",
       "  <tbody>\n",
       "    <tr>\n",
       "      <th>count</th>\n",
       "      <td>189.000</td>\n",
       "      <td>189.000</td>\n",
       "      <td>189.000</td>\n",
       "      <td>189.000</td>\n",
       "      <td>189.000</td>\n",
       "      <td>189.000</td>\n",
       "      <td>189.000</td>\n",
       "    </tr>\n",
       "    <tr>\n",
       "      <th>mean</th>\n",
       "      <td>101.698</td>\n",
       "      <td>150.807</td>\n",
       "      <td>22.915</td>\n",
       "      <td>30.001</td>\n",
       "      <td>14.372</td>\n",
       "      <td>0.243</td>\n",
       "      <td>-0.000</td>\n",
       "    </tr>\n",
       "    <tr>\n",
       "      <th>std</th>\n",
       "      <td>57.615</td>\n",
       "      <td>81.919</td>\n",
       "      <td>14.640</td>\n",
       "      <td>21.273</td>\n",
       "      <td>5.096</td>\n",
       "      <td>1.316</td>\n",
       "      <td>1.287</td>\n",
       "    </tr>\n",
       "    <tr>\n",
       "      <th>min</th>\n",
       "      <td>1.000</td>\n",
       "      <td>4.100</td>\n",
       "      <td>0.000</td>\n",
       "      <td>0.300</td>\n",
       "      <td>3.200</td>\n",
       "      <td>-2.942</td>\n",
       "      <td>-3.591</td>\n",
       "    </tr>\n",
       "    <tr>\n",
       "      <th>25%</th>\n",
       "      <td>52.000</td>\n",
       "      <td>76.400</td>\n",
       "      <td>10.000</td>\n",
       "      <td>12.800</td>\n",
       "      <td>10.600</td>\n",
       "      <td>-0.329</td>\n",
       "      <td>-0.772</td>\n",
       "    </tr>\n",
       "    <tr>\n",
       "      <th>50%</th>\n",
       "      <td>102.000</td>\n",
       "      <td>156.600</td>\n",
       "      <td>21.700</td>\n",
       "      <td>25.600</td>\n",
       "      <td>13.300</td>\n",
       "      <td>0.333</td>\n",
       "      <td>0.138</td>\n",
       "    </tr>\n",
       "    <tr>\n",
       "      <th>75%</th>\n",
       "      <td>151.000</td>\n",
       "      <td>218.500</td>\n",
       "      <td>35.600</td>\n",
       "      <td>43.300</td>\n",
       "      <td>18.000</td>\n",
       "      <td>1.255</td>\n",
       "      <td>0.951</td>\n",
       "    </tr>\n",
       "    <tr>\n",
       "      <th>max</th>\n",
       "      <td>200.000</td>\n",
       "      <td>296.400</td>\n",
       "      <td>49.600</td>\n",
       "      <td>114.000</td>\n",
       "      <td>27.000</td>\n",
       "      <td>2.829</td>\n",
       "      <td>2.621</td>\n",
       "    </tr>\n",
       "  </tbody>\n",
       "</table>\n",
       "</div>"
      ],
      "text/plain": [
       "       Unnamed: 0      TV   Radio  Newspaper   Sales  Residual  Residual_2\n",
       "count     189.000 189.000 189.000    189.000 189.000   189.000     189.000\n",
       "mean      101.698 150.807  22.915     30.001  14.372     0.243      -0.000\n",
       "std        57.615  81.919  14.640     21.273   5.096     1.316       1.287\n",
       "min         1.000   4.100   0.000      0.300   3.200    -2.942      -3.591\n",
       "25%        52.000  76.400  10.000     12.800  10.600    -0.329      -0.772\n",
       "50%       102.000 156.600  21.700     25.600  13.300     0.333       0.138\n",
       "75%       151.000 218.500  35.600     43.300  18.000     1.255       0.951\n",
       "max       200.000 296.400  49.600    114.000  27.000     2.829       2.621"
      ]
     },
     "execution_count": 31,
     "metadata": {},
     "output_type": "execute_result"
    }
   ],
   "source": [
    "no_outliers.describe()"
   ]
  },
  {
   "cell_type": "markdown",
   "metadata": {},
   "source": [
    "### Findings\n",
    "If one of the variables (TV, Radio, Newspaper) per data point has a value under 20% distribution or above the 80% distribution then the “residual” gets higher. \n",
    "\n",
    "That mean the current model has troubles predicting the sales outcome if the model input is composed like stated above. "
   ]
  }
 ],
 "metadata": {
  "hide_input": false,
  "kernelspec": {
   "display_name": "Python 3",
   "language": "python",
   "name": "python3"
  },
  "language_info": {
   "codemirror_mode": {
    "name": "ipython",
    "version": 3
   },
   "file_extension": ".py",
   "mimetype": "text/x-python",
   "name": "python",
   "nbconvert_exporter": "python",
   "pygments_lexer": "ipython3",
   "version": "3.7.1"
  },
  "toc": {
   "colors": {
    "hover_highlight": "#DAA520",
    "running_highlight": "#FF0000",
    "selected_highlight": "#FFD700"
   },
   "moveMenuLeft": true,
   "nav_menu": {
    "height": "59px",
    "width": "252px"
   },
   "navigate_menu": true,
   "number_sections": true,
   "sideBar": true,
   "threshold": 4,
   "toc_cell": false,
   "toc_section_display": "block",
   "toc_window_display": false
  }
 },
 "nbformat": 4,
 "nbformat_minor": 2
}
