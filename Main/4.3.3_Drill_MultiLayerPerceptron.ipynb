{
 "cells": [
  {
   "cell_type": "code",
   "execution_count": 20,
   "metadata": {
    "run_control": {
     "frozen": false,
     "read_only": false
    }
   },
   "outputs": [],
   "source": [
    "import numpy as np\n",
    "import pandas as pd\n",
    "import matplotlib.pyplot as plt\n",
    "from sklearn.model_selection import cross_val_score\n",
    "%matplotlib inline"
   ]
  },
  {
   "cell_type": "markdown",
   "metadata": {
    "run_control": {
     "frozen": false,
     "read_only": false
    }
   },
   "source": [
    "We're ready to build our first neural network. We will have multiple features we feed into our model, each of which will go through a set of perceptron models to arrive at a response which will be trained to our output.\n",
    "\n",
    "Like many models we've covered, this can be used as both a regression or classification model.\n",
    "\n",
    "First, we need to load our dataset. For this example we'll use The Museum of Modern Art in New York's [public dataset](https://media.githubusercontent.com/media/MuseumofModernArt/collection/master/Artworks.csv) on their collection."
   ]
  },
  {
   "cell_type": "code",
   "execution_count": 2,
   "metadata": {
    "run_control": {
     "frozen": false,
     "read_only": false
    }
   },
   "outputs": [],
   "source": [
    "artworks = pd.read_csv('https://media.githubusercontent.com/media/MuseumofModernArt/collection/master/Artworks.csv')"
   ]
  },
  {
   "cell_type": "code",
   "execution_count": 3,
   "metadata": {
    "run_control": {
     "frozen": false,
     "read_only": false
    },
    "scrolled": true
   },
   "outputs": [
    {
     "data": {
      "text/plain": [
       "Index(['Title', 'Artist', 'ConstituentID', 'ArtistBio', 'Nationality',\n",
       "       'BeginDate', 'EndDate', 'Gender', 'Date', 'Medium', 'Dimensions',\n",
       "       'CreditLine', 'AccessionNumber', 'Classification', 'Department',\n",
       "       'DateAcquired', 'Cataloged', 'ObjectID', 'URL', 'ThumbnailURL',\n",
       "       'Circumference (cm)', 'Depth (cm)', 'Diameter (cm)', 'Height (cm)',\n",
       "       'Length (cm)', 'Weight (kg)', 'Width (cm)', 'Seat Height (cm)',\n",
       "       'Duration (sec.)'],\n",
       "      dtype='object')"
      ]
     },
     "execution_count": 3,
     "metadata": {},
     "output_type": "execute_result"
    }
   ],
   "source": [
    "artworks.columns"
   ]
  },
  {
   "cell_type": "markdown",
   "metadata": {
    "run_control": {
     "frozen": false,
     "read_only": false
    }
   },
   "source": [
    "We'll also do a bit of data processing and cleaning, selecting columns of interest and converting URL's to booleans indicating whether they are present."
   ]
  },
  {
   "cell_type": "code",
   "execution_count": 4,
   "metadata": {
    "run_control": {
     "frozen": false,
     "read_only": false
    }
   },
   "outputs": [],
   "source": [
    "# Select Columns.\n",
    "artworks = artworks[['Artist', 'Nationality', 'Gender', 'Date', 'Department',\n",
    "                    'DateAcquired', 'URL', 'ThumbnailURL', 'Height (cm)', 'Width (cm)']]\n",
    "\n",
    "# Convert URL's to booleans.\n",
    "artworks['URL'] = artworks['URL'].notnull()\n",
    "artworks['ThumbnailURL'] = artworks['ThumbnailURL'].notnull()\n",
    "\n",
    "# Drop films and some other tricky rows.\n",
    "artworks = artworks[artworks['Department']!='Film']\n",
    "artworks = artworks[artworks['Department']!='Media and Performance Art']\n",
    "artworks = artworks[artworks['Department']!='Fluxus Collection']\n",
    "\n",
    "# Drop missing data.\n",
    "artworks = artworks.dropna()"
   ]
  },
  {
   "cell_type": "code",
   "execution_count": 5,
   "metadata": {
    "run_control": {
     "frozen": false,
     "read_only": false
    }
   },
   "outputs": [
    {
     "data": {
      "text/html": [
       "<div>\n",
       "<style scoped>\n",
       "    .dataframe tbody tr th:only-of-type {\n",
       "        vertical-align: middle;\n",
       "    }\n",
       "\n",
       "    .dataframe tbody tr th {\n",
       "        vertical-align: top;\n",
       "    }\n",
       "\n",
       "    .dataframe thead th {\n",
       "        text-align: right;\n",
       "    }\n",
       "</style>\n",
       "<table border=\"1\" class=\"dataframe\">\n",
       "  <thead>\n",
       "    <tr style=\"text-align: right;\">\n",
       "      <th></th>\n",
       "      <th>Artist</th>\n",
       "      <th>Nationality</th>\n",
       "      <th>Gender</th>\n",
       "      <th>Date</th>\n",
       "      <th>Department</th>\n",
       "      <th>DateAcquired</th>\n",
       "      <th>URL</th>\n",
       "      <th>ThumbnailURL</th>\n",
       "      <th>Height (cm)</th>\n",
       "      <th>Width (cm)</th>\n",
       "    </tr>\n",
       "  </thead>\n",
       "  <tbody>\n",
       "    <tr>\n",
       "      <th>0</th>\n",
       "      <td>Otto Wagner</td>\n",
       "      <td>(Austrian)</td>\n",
       "      <td>(Male)</td>\n",
       "      <td>1896</td>\n",
       "      <td>Architecture &amp; Design</td>\n",
       "      <td>1996-04-09</td>\n",
       "      <td>True</td>\n",
       "      <td>True</td>\n",
       "      <td>48.6000</td>\n",
       "      <td>168.9000</td>\n",
       "    </tr>\n",
       "    <tr>\n",
       "      <th>1</th>\n",
       "      <td>Christian de Portzamparc</td>\n",
       "      <td>(French)</td>\n",
       "      <td>(Male)</td>\n",
       "      <td>1987</td>\n",
       "      <td>Architecture &amp; Design</td>\n",
       "      <td>1995-01-17</td>\n",
       "      <td>True</td>\n",
       "      <td>True</td>\n",
       "      <td>40.6401</td>\n",
       "      <td>29.8451</td>\n",
       "    </tr>\n",
       "    <tr>\n",
       "      <th>2</th>\n",
       "      <td>Emil Hoppe</td>\n",
       "      <td>(Austrian)</td>\n",
       "      <td>(Male)</td>\n",
       "      <td>1903</td>\n",
       "      <td>Architecture &amp; Design</td>\n",
       "      <td>1997-01-15</td>\n",
       "      <td>True</td>\n",
       "      <td>True</td>\n",
       "      <td>34.3000</td>\n",
       "      <td>31.8000</td>\n",
       "    </tr>\n",
       "    <tr>\n",
       "      <th>3</th>\n",
       "      <td>Bernard Tschumi</td>\n",
       "      <td>()</td>\n",
       "      <td>(Male)</td>\n",
       "      <td>1980</td>\n",
       "      <td>Architecture &amp; Design</td>\n",
       "      <td>1995-01-17</td>\n",
       "      <td>True</td>\n",
       "      <td>True</td>\n",
       "      <td>50.8000</td>\n",
       "      <td>50.8000</td>\n",
       "    </tr>\n",
       "    <tr>\n",
       "      <th>4</th>\n",
       "      <td>Emil Hoppe</td>\n",
       "      <td>(Austrian)</td>\n",
       "      <td>(Male)</td>\n",
       "      <td>1903</td>\n",
       "      <td>Architecture &amp; Design</td>\n",
       "      <td>1997-01-15</td>\n",
       "      <td>True</td>\n",
       "      <td>True</td>\n",
       "      <td>38.4000</td>\n",
       "      <td>19.1000</td>\n",
       "    </tr>\n",
       "  </tbody>\n",
       "</table>\n",
       "</div>"
      ],
      "text/plain": [
       "                     Artist Nationality  Gender  Date             Department  \\\n",
       "0               Otto Wagner  (Austrian)  (Male)  1896  Architecture & Design   \n",
       "1  Christian de Portzamparc    (French)  (Male)  1987  Architecture & Design   \n",
       "2                Emil Hoppe  (Austrian)  (Male)  1903  Architecture & Design   \n",
       "3           Bernard Tschumi          ()  (Male)  1980  Architecture & Design   \n",
       "4                Emil Hoppe  (Austrian)  (Male)  1903  Architecture & Design   \n",
       "\n",
       "  DateAcquired   URL  ThumbnailURL  Height (cm)  Width (cm)  \n",
       "0   1996-04-09  True          True      48.6000    168.9000  \n",
       "1   1995-01-17  True          True      40.6401     29.8451  \n",
       "2   1997-01-15  True          True      34.3000     31.8000  \n",
       "3   1995-01-17  True          True      50.8000     50.8000  \n",
       "4   1997-01-15  True          True      38.4000     19.1000  "
      ]
     },
     "execution_count": 5,
     "metadata": {},
     "output_type": "execute_result"
    }
   ],
   "source": [
    "artworks.head()"
   ]
  },
  {
   "cell_type": "markdown",
   "metadata": {
    "run_control": {
     "frozen": false,
     "read_only": false
    }
   },
   "source": [
    "## Building a Model\n",
    "\n",
    "Now, let's see if we can use multi-layer perceptron modeling (or \"MLP\") to see if we can classify the department a piece should go into using everything but the department name.\n",
    "\n",
    "Before we import MLP from SKLearn and establish the model we first have to ensure correct typing for our data and do some other cleaning."
   ]
  },
  {
   "cell_type": "code",
   "execution_count": 6,
   "metadata": {
    "run_control": {
     "frozen": false,
     "read_only": false
    }
   },
   "outputs": [
    {
     "data": {
      "text/plain": [
       "Artist           object\n",
       "Nationality      object\n",
       "Gender           object\n",
       "Date             object\n",
       "Department       object\n",
       "DateAcquired     object\n",
       "URL                bool\n",
       "ThumbnailURL       bool\n",
       "Height (cm)     float64\n",
       "Width (cm)      float64\n",
       "dtype: object"
      ]
     },
     "execution_count": 6,
     "metadata": {},
     "output_type": "execute_result"
    }
   ],
   "source": [
    "# Get data types.\n",
    "artworks.dtypes"
   ]
  },
  {
   "cell_type": "markdown",
   "metadata": {},
   "source": [
    "The `DateAcquired` column is an object. Let's transform that to a datetime object and add a feature for just the year the artwork was acquired."
   ]
  },
  {
   "cell_type": "code",
   "execution_count": 7,
   "metadata": {
    "run_control": {
     "frozen": false,
     "read_only": false
    }
   },
   "outputs": [
    {
     "data": {
      "text/plain": [
       "dtype('int64')"
      ]
     },
     "execution_count": 7,
     "metadata": {},
     "output_type": "execute_result"
    }
   ],
   "source": [
    "artworks['DateAcquired'] = pd.to_datetime(artworks.DateAcquired)\n",
    "artworks['YearAcquired'] = artworks.DateAcquired.dt.year\n",
    "artworks['YearAcquired'].dtype"
   ]
  },
  {
   "cell_type": "markdown",
   "metadata": {},
   "source": [
    "Great. Let's do some more miscellaneous cleaning."
   ]
  },
  {
   "cell_type": "code",
   "execution_count": 8,
   "metadata": {
    "run_control": {
     "frozen": false,
     "read_only": false
    }
   },
   "outputs": [],
   "source": [
    "# Remove multiple nationalities, genders, and artists.\n",
    "artworks.loc[artworks['Gender'].str.contains('\\) \\('), 'Gender'] = '\\(multiple_persons\\)'\n",
    "artworks.loc[artworks['Nationality'].str.contains('\\) \\('), 'Nationality'] = '\\(multiple_nationalities\\)'\n",
    "artworks.loc[artworks['Artist'].str.contains(','), 'Artist'] = 'Multiple_Artists'\n",
    "\n",
    "# Convert dates to start date, cutting down number of distinct examples.\n",
    "artworks['Date'] = pd.Series(artworks.Date.str.extract(\n",
    "    '([0-9]{4})', expand=False))[:-1]\n",
    "\n",
    "# Final column drops and NA drop.\n",
    "X = artworks.drop(['Department', 'DateAcquired', 'Artist', 'Nationality', 'Date'], 1)\n",
    "\n",
    "# Create dummies separately.\n",
    "artists = pd.get_dummies(artworks.Artist)\n",
    "nationalities = pd.get_dummies(artworks.Nationality)\n",
    "dates = pd.get_dummies(artworks.Date)\n",
    "\n",
    "# Concat with other variables, but artists slows this wayyyyy down so we'll keep it out for now\n",
    "X = pd.get_dummies(X, sparse=True)\n",
    "X = pd.concat([X, nationalities, dates], axis=1)\n",
    "\n",
    "Y = artworks.Department"
   ]
  },
  {
   "cell_type": "code",
   "execution_count": 14,
   "metadata": {
    "run_control": {
     "frozen": false,
     "read_only": false
    }
   },
   "outputs": [
    {
     "name": "stdout",
     "output_type": "stream",
     "text": [
      "Iteration 1, loss = 2.11695589\n",
      "Iteration 2, loss = 0.87796737\n",
      "Iteration 3, loss = 0.84395796\n",
      "Iteration 4, loss = 0.82265144\n",
      "Iteration 5, loss = 0.80879934\n",
      "Iteration 6, loss = 0.82536076\n",
      "Iteration 7, loss = 0.78402200\n",
      "Iteration 8, loss = 0.80868257\n",
      "Iteration 9, loss = 0.76305248\n",
      "Iteration 10, loss = 0.77666386\n",
      "Iteration 11, loss = 0.77579644\n",
      "Iteration 12, loss = 0.76275963\n",
      "Iteration 13, loss = 0.79341182\n",
      "Iteration 14, loss = 0.75405670\n",
      "Iteration 15, loss = 0.74523381\n",
      "Iteration 16, loss = 0.75173451\n",
      "Iteration 17, loss = 0.76310341\n",
      "Iteration 18, loss = 0.73921373\n",
      "Iteration 19, loss = 0.76596600\n",
      "Iteration 20, loss = 0.72533391\n",
      "Iteration 21, loss = 0.71601340\n",
      "Iteration 22, loss = 0.73728144\n",
      "Iteration 23, loss = 0.73251431\n",
      "Iteration 24, loss = 0.70412393\n",
      "Iteration 25, loss = 0.70166554\n",
      "Iteration 26, loss = 0.72611728\n",
      "Iteration 27, loss = 0.71589523\n",
      "Iteration 28, loss = 0.71875106\n",
      "Iteration 29, loss = 0.70310554\n",
      "Iteration 30, loss = 0.70240710\n",
      "Iteration 31, loss = 0.72089912\n",
      "Iteration 32, loss = 0.71578174\n",
      "Iteration 33, loss = 0.70007837\n",
      "Iteration 34, loss = 0.69280170\n",
      "Iteration 35, loss = 0.68813160\n",
      "Iteration 36, loss = 0.68719063\n",
      "Iteration 37, loss = 0.68713961\n",
      "Iteration 38, loss = 0.69269899\n",
      "Iteration 39, loss = 0.69791657\n",
      "Iteration 40, loss = 0.68308848\n",
      "Iteration 41, loss = 0.66761381\n",
      "Iteration 42, loss = 0.68717550\n",
      "Iteration 43, loss = 0.67946392\n",
      "Iteration 44, loss = 0.68529212\n",
      "Iteration 45, loss = 0.67261837\n",
      "Iteration 46, loss = 0.67657446\n",
      "Iteration 47, loss = 0.66738533\n",
      "Iteration 48, loss = 0.67058305\n",
      "Iteration 49, loss = 0.68645930\n",
      "Iteration 50, loss = 0.67660796\n",
      "Iteration 51, loss = 0.66244671\n",
      "Iteration 52, loss = 0.67832239\n",
      "Iteration 53, loss = 0.66165672\n",
      "Iteration 54, loss = 0.66989948\n",
      "Iteration 55, loss = 0.65775372\n",
      "Iteration 56, loss = 0.65814589\n",
      "Iteration 57, loss = 0.65095574\n",
      "Iteration 58, loss = 0.66575020\n",
      "Iteration 59, loss = 0.65061713\n",
      "Iteration 60, loss = 0.65505581\n",
      "Iteration 61, loss = 0.64457170\n",
      "Iteration 62, loss = 0.65194904\n",
      "Iteration 63, loss = 0.64877482\n",
      "Iteration 64, loss = 0.65609721\n",
      "Iteration 65, loss = 0.64852736\n",
      "Iteration 66, loss = 0.65345460\n",
      "Iteration 67, loss = 0.64136541\n",
      "Iteration 68, loss = 0.64012024\n",
      "Iteration 69, loss = 0.64356116\n",
      "Iteration 70, loss = 0.63564875\n",
      "Iteration 71, loss = 0.64769938\n",
      "Iteration 72, loss = 0.64187606\n",
      "Iteration 73, loss = 0.63763062\n",
      "Iteration 74, loss = 0.63367872\n",
      "Iteration 75, loss = 0.64216656\n",
      "Iteration 76, loss = 0.64346316\n",
      "Iteration 77, loss = 0.63849466\n",
      "Iteration 78, loss = 0.62776265\n",
      "Iteration 79, loss = 0.64216546\n",
      "Iteration 80, loss = 0.62944932\n",
      "Iteration 81, loss = 0.63394655\n",
      "Iteration 82, loss = 0.63140353\n",
      "Iteration 83, loss = 0.63174640\n",
      "Iteration 84, loss = 0.62862532\n",
      "Iteration 85, loss = 0.62690372\n",
      "Iteration 86, loss = 0.63204742\n",
      "Iteration 87, loss = 0.63115441\n",
      "Iteration 88, loss = 0.62474732\n",
      "Iteration 89, loss = 0.62524264\n",
      "Iteration 90, loss = 0.62266931\n",
      "Iteration 91, loss = 0.62148207\n",
      "Iteration 92, loss = 0.62118804\n",
      "Iteration 93, loss = 0.61752364\n",
      "Iteration 94, loss = 0.61822043\n",
      "Iteration 95, loss = 0.61862357\n",
      "Iteration 96, loss = 0.61550732\n",
      "Iteration 97, loss = 0.61326194\n",
      "Iteration 98, loss = 0.61456727\n",
      "Iteration 99, loss = 0.61672900\n",
      "Iteration 100, loss = 0.61101765\n"
     ]
    },
    {
     "name": "stderr",
     "output_type": "stream",
     "text": [
      "/home/ec2-user/anaconda3/envs/python3/lib/python3.6/site-packages/sklearn/neural_network/multilayer_perceptron.py:562: ConvergenceWarning: Stochastic Optimizer: Maximum iterations (100) reached and the optimization hasn't converged yet.\n",
      "  % self.max_iter, ConvergenceWarning)\n"
     ]
    },
    {
     "data": {
      "text/plain": [
       "MLPClassifier(activation='relu', alpha=0.0001, batch_size='auto', beta_1=0.9,\n",
       "       beta_2=0.999, early_stopping=False, epsilon=1e-08,\n",
       "       hidden_layer_sizes=(100,), learning_rate='constant',\n",
       "       learning_rate_init=0.001, max_iter=100, momentum=0.9,\n",
       "       n_iter_no_change=10, nesterovs_momentum=True, power_t=0.5,\n",
       "       random_state=None, shuffle=True, solver='adam', tol=0.0001,\n",
       "       validation_fraction=0.1, verbose=True, warm_start=False)"
      ]
     },
     "execution_count": 14,
     "metadata": {},
     "output_type": "execute_result"
    }
   ],
   "source": [
    "# Alright! We've done our prep, let's build the model.\n",
    "# Neural networks are hugely computationally intensive.\n",
    "# This may take several minutes to run.\n",
    "\n",
    "# Import the model.\n",
    "from sklearn.neural_network import MLPClassifier\n",
    "\n",
    "# Establish and fit the model, with a single, 1000 perceptron layer.\n",
    "mlp = MLPClassifier(hidden_layer_sizes=(100,), max_iter=100, verbose=True, early_stopping=True)\n",
    "mlp.fit(X, Y)"
   ]
  },
  {
   "cell_type": "code",
   "execution_count": 15,
   "metadata": {
    "run_control": {
     "frozen": false,
     "read_only": false
    }
   },
   "outputs": [
    {
     "data": {
      "text/plain": [
       "0.7544759392323799"
      ]
     },
     "execution_count": 15,
     "metadata": {},
     "output_type": "execute_result"
    }
   ],
   "source": [
    "mlp.score(X, Y)"
   ]
  },
  {
   "cell_type": "code",
   "execution_count": 16,
   "metadata": {
    "run_control": {
     "frozen": false,
     "read_only": false
    }
   },
   "outputs": [
    {
     "data": {
      "text/plain": [
       "Drawings & Prints        0.622536\n",
       "Photography              0.226449\n",
       "Architecture & Design    0.112957\n",
       "Painting & Sculpture     0.033686\n",
       "Media and Performance    0.004372\n",
       "Name: Department, dtype: float64"
      ]
     },
     "execution_count": 16,
     "metadata": {},
     "output_type": "execute_result"
    }
   ],
   "source": [
    "Y.value_counts()/len(Y)"
   ]
  },
  {
   "cell_type": "code",
   "execution_count": null,
   "metadata": {
    "run_control": {
     "frozen": false,
     "read_only": false
    }
   },
   "outputs": [],
   "source": [
    "cross_val_score(mlp, X, Y, cv=5)"
   ]
  },
  {
   "cell_type": "markdown",
   "metadata": {
    "run_control": {
     "frozen": false,
     "read_only": false
    }
   },
   "source": [
    "Now we got a lot of information from all of this. Firstly we can see that the model seems to overfit, though there is still so remaining performance when validated with cross validation. This is a feature of neural networks that aren't given enough data for the number of features present. _Neural networks, in general, like_ a lot _of data_. You may also have noticed something also about neural networks: _they can take a_ long _time to run_. Try increasing the layer size by adding a zero. Feel free to interrupt the kernel if you don't have time...\n",
    "\n",
    "Also note that we created bools for artist's name but left them out. Both of the above points are the reason for that. It would take much longer to run and it would be much more prone to overfitting."
   ]
  },
  {
   "cell_type": "markdown",
   "metadata": {
    "run_control": {
     "frozen": false,
     "read_only": false
    }
   },
   "source": [
    "## Model parameters\n",
    "\n",
    "Now, before we move on and let you loose with some tasks to work on the model, let's go over the parameters.\n",
    "\n",
    "We included one parameter: hidden layer size. Remember in the previous lesson, when we talked about layers in a neural network. This tells us how many and how big to make our layers. Pass in a tuple that specifies each layer's size. Our network is 1000 neurons wide and one layer. (100, 4, ) would create a network with two layers, one 100 wide and the other 4.\n",
    "\n",
    "How many layers to include is determined by two things: computational resources and cross validation searching for convergence. It's generally less than the number of input variables you have.\n",
    "\n",
    "You can also set an alpha. Neural networks like this use a regularization parameter that penalizes large coefficients just like we discussed in the advanced regression section. Alpha scales that penalty.\n",
    "\n",
    "Lastly, we'll discuss the activation function. The activation function determines whether the output from an individual perceptron is binary or continuous. By default this is a 'relu', or 'rectified linear unit function' function. In the exercise we went through earlier we used this binary function, but we discussed the _sigmoid_ as a reasonable alternative. The _sigmoid_ (called 'logistic' by SKLearn because it's a 'logistic sigmoid function') allows for continuous variables between 0 and 1, which allows for a more nuanced model. It does come at the cost of increased computational complexity.\n",
    "\n",
    "If you want to learn more about these, study [activation functions](https://en.wikipedia.org/wiki/Activation_function) and [multilayer perceptrons](https://en.wikipedia.org/wiki/Multilayer_perceptron). The [Deep Learning](http://www.deeplearningbook.org/) book referenced earlier goes into great detail on the linear algebra involved.\n",
    "\n",
    "You could also just test the models with cross validation. Unless neural networks are your specialty cross validation should be sufficient.\n",
    "\n",
    "For the other parameters and their defaults, check out the [MLPClassifier documentation](http://scikit-learn.org/stable/modules/generated/sklearn.neural_network.MLPClassifier.html#sklearn.neural_network.MLPClassifier)."
   ]
  },
  {
   "cell_type": "markdown",
   "metadata": {},
   "source": [
    "## Drill: Playing with layers\n",
    "\n",
    "Now it's your turn. Using the space below, experiment with different hidden layer structures. You can try this on a subset of the data to improve runtime. See how things vary. See what seems to matter the most. Feel free to manipulate other parameters as well. It may also be beneficial to do some real feature selection work..."
   ]
  },
  {
   "cell_type": "code",
   "execution_count": 18,
   "metadata": {},
   "outputs": [
    {
     "name": "stdout",
     "output_type": "stream",
     "text": [
      "Iteration 1, loss = 3.30692749\n",
      "Validation score: 0.689725\n",
      "Iteration 2, loss = 0.94339364\n",
      "Validation score: 0.721730\n",
      "Iteration 3, loss = 0.83342647\n",
      "Validation score: 0.659749\n",
      "Iteration 4, loss = 0.76812586\n",
      "Validation score: 0.733075\n",
      "Iteration 5, loss = 0.73061356\n",
      "Validation score: 0.732614\n",
      "Iteration 6, loss = 0.71519493\n",
      "Validation score: 0.724313\n",
      "Iteration 7, loss = 0.71400666\n",
      "Validation score: 0.744235\n",
      "Iteration 8, loss = 0.70927163\n",
      "Validation score: 0.735842\n",
      "Iteration 9, loss = 0.70759710\n",
      "Validation score: 0.720439\n",
      "Iteration 10, loss = 0.69849858\n",
      "Validation score: 0.743221\n",
      "Iteration 11, loss = 0.70031151\n",
      "Validation score: 0.696089\n",
      "Iteration 12, loss = 0.70115533\n",
      "Validation score: 0.695720\n",
      "Iteration 13, loss = 0.71231638\n",
      "Validation score: 0.701531\n",
      "Iteration 14, loss = 0.70723686\n",
      "Validation score: 0.738978\n",
      "Iteration 15, loss = 0.71945501\n",
      "Validation score: 0.747002\n",
      "Iteration 16, loss = 0.72183813\n",
      "Validation score: 0.693507\n",
      "Iteration 17, loss = 0.73288193\n",
      "Validation score: 0.733260\n",
      "Iteration 18, loss = 0.71598353\n",
      "Validation score: 0.741468\n",
      "Iteration 19, loss = 0.71524948\n",
      "Validation score: 0.717488\n",
      "Iteration 20, loss = 0.70960709\n",
      "Validation score: 0.755303\n",
      "Iteration 21, loss = 0.70536610\n",
      "Validation score: 0.740730\n",
      "Iteration 22, loss = 0.70559339\n",
      "Validation score: 0.716565\n",
      "Iteration 23, loss = 0.69560699\n",
      "Validation score: 0.723944\n",
      "Iteration 24, loss = 0.70356765\n",
      "Validation score: 0.722468\n",
      "Iteration 25, loss = 0.70356490\n",
      "Validation score: 0.736119\n",
      "Iteration 26, loss = 0.69561313\n",
      "Validation score: 0.701439\n",
      "Iteration 27, loss = 0.70023141\n",
      "Validation score: 0.730124\n",
      "Iteration 28, loss = 0.69628847\n",
      "Validation score: 0.752721\n",
      "Iteration 29, loss = 0.70000258\n",
      "Validation score: 0.737595\n",
      "Iteration 30, loss = 0.69241050\n",
      "Validation score: 0.730769\n",
      "Iteration 31, loss = 0.72105987\n",
      "Validation score: 0.742852\n",
      "Validation score did not improve more than tol=0.000100 for 10 consecutive epochs. Stopping.\n"
     ]
    },
    {
     "data": {
      "text/plain": [
       "0.7442004187689668"
      ]
     },
     "execution_count": 18,
     "metadata": {},
     "output_type": "execute_result"
    }
   ],
   "source": [
    "mlp = MLPClassifier(hidden_layer_sizes=(100,), learning_rate_init=0.01, max_iter=100, verbose=True, early_stopping=True)\n",
    "mlp.fit(X, Y)\n",
    "mlp.score(X, Y)"
   ]
  },
  {
   "cell_type": "code",
   "execution_count": 21,
   "metadata": {},
   "outputs": [
    {
     "name": "stdout",
     "output_type": "stream",
     "text": [
      "Iteration 1, loss = 3.91370931\n",
      "Validation score: 0.678889\n",
      "Iteration 2, loss = 1.30038979\n",
      "Validation score: 0.653407\n",
      "Iteration 3, loss = 0.93733294\n",
      "Validation score: 0.662285\n",
      "Iteration 4, loss = 0.80378872\n",
      "Validation score: 0.711864\n",
      "Iteration 5, loss = 0.77074265\n",
      "Validation score: 0.454399\n",
      "Iteration 6, loss = 0.74764242\n",
      "Validation score: 0.541335\n",
      "Iteration 7, loss = 0.71909422\n",
      "Validation score: 0.715554\n",
      "Iteration 8, loss = 0.72486061\n",
      "Validation score: 0.521965\n",
      "Iteration 9, loss = 0.71110895\n",
      "Validation score: 0.740228\n",
      "Iteration 10, loss = 0.70028830\n",
      "Validation score: 0.708290\n",
      "Iteration 11, loss = 0.71064627\n",
      "Validation score: 0.740689\n",
      "Iteration 12, loss = 0.69217403\n",
      "Validation score: 0.725124\n",
      "Iteration 13, loss = 0.70581345\n",
      "Validation score: 0.687421\n",
      "Iteration 14, loss = 0.71257651\n",
      "Validation score: 0.723049\n",
      "Iteration 15, loss = 0.69587803\n",
      "Validation score: 0.709443\n",
      "Iteration 16, loss = 0.69135639\n",
      "Validation score: 0.723049\n",
      "Iteration 17, loss = 0.70489109\n",
      "Validation score: 0.725009\n",
      "Iteration 18, loss = 0.69388887\n",
      "Validation score: 0.735962\n",
      "Iteration 19, loss = 0.70114702\n",
      "Validation score: 0.737922\n",
      "Iteration 20, loss = 0.69360614\n",
      "Validation score: 0.716938\n",
      "Iteration 21, loss = 0.68695769\n",
      "Validation score: 0.698951\n",
      "Iteration 22, loss = 0.69505996\n",
      "Validation score: 0.715669\n",
      "Validation score did not improve more than tol=0.000100 for 10 consecutive epochs. Stopping.\n",
      "Iteration 1, loss = 3.77231273\n",
      "Validation score: 0.654675\n",
      "Iteration 2, loss = 1.00534059\n",
      "Validation score: 0.663669\n",
      "Iteration 3, loss = 0.91583399\n",
      "Validation score: 0.656405\n",
      "Iteration 4, loss = 0.82807718\n",
      "Validation score: 0.684654\n",
      "Iteration 5, loss = 0.80244659\n",
      "Validation score: 0.668281\n",
      "Iteration 6, loss = 0.76647082\n",
      "Validation score: 0.701487\n",
      "Iteration 7, loss = 0.75281322\n",
      "Validation score: 0.719244\n",
      "Iteration 8, loss = 0.72523954\n",
      "Validation score: 0.734694\n",
      "Iteration 9, loss = 0.73173830\n",
      "Validation score: 0.723510\n",
      "Iteration 10, loss = 0.71592018\n",
      "Validation score: 0.710596\n",
      "Iteration 11, loss = 0.72664420\n",
      "Validation score: 0.709904\n",
      "Iteration 12, loss = 0.72680488\n",
      "Validation score: 0.705062\n",
      "Iteration 13, loss = 0.71436163\n",
      "Validation score: 0.726277\n",
      "Iteration 14, loss = 0.71825676\n",
      "Validation score: 0.738845\n",
      "Iteration 15, loss = 0.71470149\n",
      "Validation score: 0.739998\n",
      "Iteration 16, loss = 0.73466531\n",
      "Validation score: 0.704255\n",
      "Iteration 17, loss = 0.72879246\n",
      "Validation score: 0.718782\n",
      "Iteration 18, loss = 0.73477961\n",
      "Validation score: 0.728583\n",
      "Iteration 19, loss = 0.72073437\n",
      "Validation score: 0.731581\n",
      "Iteration 20, loss = 0.72400736\n",
      "Validation score: 0.690303\n",
      "Iteration 21, loss = 0.75062935\n",
      "Validation score: 0.732734\n",
      "Iteration 22, loss = 0.74003471\n",
      "Validation score: 0.696875\n",
      "Iteration 23, loss = 0.73376474\n",
      "Validation score: 0.726969\n",
      "Iteration 24, loss = 0.72903321\n",
      "Validation score: 0.698605\n",
      "Iteration 25, loss = 0.73750964\n",
      "Validation score: 0.703563\n",
      "Iteration 26, loss = 0.73219108\n",
      "Validation score: 0.730774\n",
      "Validation score did not improve more than tol=0.000100 for 10 consecutive epochs. Stopping.\n",
      "Iteration 1, loss = 4.46173817\n",
      "Validation score: 0.593037\n",
      "Iteration 2, loss = 1.35348094\n",
      "Validation score: 0.654831\n",
      "Iteration 3, loss = 0.95288883\n",
      "Validation score: 0.376412\n",
      "Iteration 4, loss = 0.80675619\n",
      "Validation score: 0.687572\n",
      "Iteration 5, loss = 0.76348291\n",
      "Validation score: 0.712820\n",
      "Iteration 6, loss = 0.73359516\n",
      "Validation score: 0.722504\n",
      "Iteration 7, loss = 0.71353344\n",
      "Validation score: 0.721582\n",
      "Iteration 8, loss = 0.69433769\n",
      "Validation score: 0.723772\n",
      "Iteration 9, loss = 0.67459650\n",
      "Validation score: 0.729767\n",
      "Iteration 10, loss = 0.66724009\n",
      "Validation score: 0.714088\n",
      "Iteration 11, loss = 0.66040591\n",
      "Validation score: 0.729537\n",
      "Iteration 12, loss = 0.68255300\n",
      "Validation score: 0.742679\n",
      "Iteration 13, loss = 0.67280542\n",
      "Validation score: 0.748559\n",
      "Iteration 14, loss = 0.67209655\n",
      "Validation score: 0.752594\n",
      "Iteration 15, loss = 0.66114821\n",
      "Validation score: 0.734724\n",
      "Iteration 16, loss = 0.68998491\n",
      "Validation score: 0.748098\n",
      "Iteration 17, loss = 0.66636400\n",
      "Validation score: 0.675928\n",
      "Iteration 18, loss = 0.66992048\n",
      "Validation score: 0.746714\n",
      "Iteration 19, loss = 0.66890704\n",
      "Validation score: 0.715241\n",
      "Iteration 20, loss = 0.66697988\n",
      "Validation score: 0.692991\n",
      "Iteration 21, loss = 0.66867653\n",
      "Validation score: 0.738644\n",
      "Iteration 22, loss = 0.68123957\n",
      "Validation score: 0.755591\n",
      "Iteration 23, loss = 0.70130349\n",
      "Validation score: 0.724694\n",
      "Iteration 24, loss = 0.69378733\n",
      "Validation score: 0.724003\n",
      "Iteration 25, loss = 0.68361979\n",
      "Validation score: 0.738414\n",
      "Iteration 26, loss = 0.69482221\n",
      "Validation score: 0.684229\n",
      "Iteration 27, loss = 0.67628919\n",
      "Validation score: 0.744409\n",
      "Iteration 28, loss = 0.67915534\n",
      "Validation score: 0.749251\n",
      "Iteration 29, loss = 0.67269169\n",
      "Validation score: 0.708670\n",
      "Iteration 30, loss = 0.67332431\n",
      "Validation score: 0.735647\n",
      "Iteration 31, loss = 0.67722320\n",
      "Validation score: 0.720775\n",
      "Iteration 32, loss = 0.67579903\n",
      "Validation score: 0.755130\n",
      "Iteration 33, loss = 0.67408435\n",
      "Validation score: 0.724579\n",
      "Validation score did not improve more than tol=0.000100 for 10 consecutive epochs. Stopping.\n",
      "Iteration 1, loss = 4.16638189\n",
      "Validation score: 0.583237\n",
      "Iteration 2, loss = 1.21703738\n",
      "Validation score: 0.713973\n",
      "Iteration 3, loss = 1.06908093\n",
      "Validation score: 0.688955\n",
      "Iteration 4, loss = 0.89392827\n",
      "Validation score: 0.552571\n",
      "Iteration 5, loss = 0.78577885\n",
      "Validation score: 0.725963\n",
      "Iteration 6, loss = 0.73301115\n",
      "Validation score: 0.743486\n",
      "Iteration 7, loss = 0.71810600\n",
      "Validation score: 0.711321\n",
      "Iteration 8, loss = 0.71210168\n",
      "Validation score: 0.733802\n",
      "Iteration 9, loss = 0.68706123\n",
      "Validation score: 0.729537\n",
      "Iteration 10, loss = 0.67810250\n",
      "Validation score: 0.748905\n",
      "Iteration 11, loss = 0.66677030\n",
      "Validation score: 0.712705\n",
      "Iteration 12, loss = 0.68018980\n",
      "Validation score: 0.734724\n",
      "Iteration 13, loss = 0.66741673\n",
      "Validation score: 0.735531\n",
      "Iteration 14, loss = 0.67226841\n",
      "Validation score: 0.678464\n",
      "Iteration 15, loss = 0.67022285\n",
      "Validation score: 0.753747\n",
      "Iteration 16, loss = 0.69027691\n",
      "Validation score: 0.735416\n",
      "Iteration 17, loss = 0.67353712\n",
      "Validation score: 0.734494\n",
      "Iteration 18, loss = 0.67153181\n",
      "Validation score: 0.749481\n",
      "Iteration 19, loss = 0.67286579\n",
      "Validation score: 0.729191\n",
      "Iteration 20, loss = 0.67922180\n",
      "Validation score: 0.734033\n",
      "Iteration 21, loss = 0.68378115\n",
      "Validation score: 0.733456\n",
      "Iteration 22, loss = 0.67837641\n",
      "Validation score: 0.741296\n",
      "Iteration 23, loss = 0.68585357\n",
      "Validation score: 0.747060\n",
      "Iteration 24, loss = 0.67754941\n",
      "Validation score: 0.745216\n",
      "Iteration 25, loss = 0.68501988\n",
      "Validation score: 0.753286\n",
      "Iteration 26, loss = 0.67570485\n",
      "Validation score: 0.751902\n",
      "Validation score did not improve more than tol=0.000100 for 10 consecutive epochs. Stopping.\n",
      "Iteration 1, loss = 4.57426233\n",
      "Validation score: 0.699908\n",
      "Iteration 2, loss = 1.32819283\n",
      "Validation score: 0.513027\n",
      "Iteration 3, loss = 1.06520108\n",
      "Validation score: 0.742795\n",
      "Iteration 4, loss = 0.80366989\n",
      "Validation score: 0.502767\n",
      "Iteration 5, loss = 0.76942447\n",
      "Validation score: 0.710745\n",
      "Iteration 6, loss = 0.72327112\n",
      "Validation score: 0.752479\n",
      "Iteration 7, loss = 0.67983159\n",
      "Validation score: 0.757897\n",
      "Iteration 8, loss = 0.68331508\n",
      "Validation score: 0.625893\n",
      "Iteration 9, loss = 0.68106670\n",
      "Validation score: 0.733456\n",
      "Iteration 10, loss = 0.66948732\n",
      "Validation score: 0.762970\n",
      "Iteration 11, loss = 0.67376815\n",
      "Validation score: 0.741526\n",
      "Iteration 12, loss = 0.67014852\n",
      "Validation score: 0.743947\n",
      "Iteration 13, loss = 0.66549457\n",
      "Validation score: 0.707863\n",
      "Iteration 14, loss = 0.66598724\n",
      "Validation score: 0.757321\n",
      "Iteration 15, loss = 0.66309405\n",
      "Validation score: 0.697717\n",
      "Iteration 16, loss = 0.66545200\n",
      "Validation score: 0.747752\n",
      "Iteration 17, loss = 0.66809160\n",
      "Validation score: 0.749827\n",
      "Iteration 18, loss = 0.66467302\n",
      "Validation score: 0.737030\n",
      "Iteration 19, loss = 0.67155645\n",
      "Validation score: 0.741526\n",
      "Iteration 20, loss = 0.66868260\n",
      "Validation score: 0.743486\n",
      "Iteration 21, loss = 0.66306244\n",
      "Validation score: 0.707517\n",
      "Validation score did not improve more than tol=0.000100 for 10 consecutive epochs. Stopping.\n"
     ]
    },
    {
     "data": {
      "text/plain": [
       "array([0.70006917, 0.71313933, 0.67526058, 0.6581035 , 0.56722476])"
      ]
     },
     "execution_count": 21,
     "metadata": {},
     "output_type": "execute_result"
    }
   ],
   "source": [
    "cross_val_score(mlp, X, Y, cv=5)"
   ]
  },
  {
   "cell_type": "markdown",
   "metadata": {},
   "source": [
    "##### Results: The MLP is overfitting. There is a lot of variance in the cross validation folds."
   ]
  }
 ],
 "metadata": {
  "hide_input": false,
  "kernelspec": {
   "display_name": "conda_python3",
   "language": "python",
   "name": "conda_python3"
  },
  "language_info": {
   "codemirror_mode": {
    "name": "ipython",
    "version": 3
   },
   "file_extension": ".py",
   "mimetype": "text/x-python",
   "name": "python",
   "nbconvert_exporter": "python",
   "pygments_lexer": "ipython3",
   "version": "3.6.5"
  },
  "toc": {
   "colors": {
    "hover_highlight": "#DAA520",
    "running_highlight": "#FF0000",
    "selected_highlight": "#FFD700"
   },
   "moveMenuLeft": true,
   "nav_menu": {
    "height": "86px",
    "width": "252px"
   },
   "navigate_menu": true,
   "number_sections": true,
   "sideBar": true,
   "threshold": 4,
   "toc_cell": false,
   "toc_section_display": "block",
   "toc_window_display": false
  }
 },
 "nbformat": 4,
 "nbformat_minor": 2
}
