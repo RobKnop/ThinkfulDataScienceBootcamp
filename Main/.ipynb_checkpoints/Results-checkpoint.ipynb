{
 "cells": [
  {
   "cell_type": "code",
   "execution_count": 0,
   "metadata": {},
   "outputs": [],
   "source": [
    "# Change directory to VSCode workspace root so that relative path loads work correctly. Turn this addition off with the DataScience.changeDirOnImportExport setting\n",
    "# ms-python.python added\n",
    "import os\n",
    "try:\n",
    "\tos.chdir(os.path.join(os.getcwd(), '..'))\n",
    "\tprint(os.getcwd())\n",
    "except:\n",
    "\tpass\n"
   ]
  },
  {
   "cell_type": "code",
   "execution_count": 7,
   "metadata": {},
   "outputs": [
    {
     "name": "stderr",
     "output_type": "stream",
     "text": [
      "[Parallel(n_jobs=-1)]: Using backend ThreadingBackend with 36 concurrent workers.\n",
      "[Parallel(n_jobs=-1)]: Done  58 out of  64 | elapsed:    4.6s remaining:    0.5s\n",
      "[Parallel(n_jobs=-1)]: Done  64 out of  64 | elapsed:    4.7s finished\n"
     ]
    },
    {
     "data": {
      "text/plain": [
       "RandomForestClassifier(bootstrap=True, class_weight=None, criterion='gini',\n",
       "            max_depth=13, max_features='auto', max_leaf_nodes=None,\n",
       "            min_impurity_decrease=0.0, min_impurity_split=None,\n",
       "            min_samples_leaf=1, min_samples_split=2,\n",
       "            min_weight_fraction_leaf=0.0, n_estimators=64, n_jobs=-1,\n",
       "            oob_score=False, random_state=None, verbose=1,\n",
       "            warm_start=False)"
      ]
     },
     "execution_count": 7,
     "metadata": {},
     "output_type": "execute_result"
    }
   ],
   "source": [
    "# Set the clf to the best combination of parameters\n",
    "#rfc = grid_obj.best_estimator_\n",
    "\n",
    "rfc = ensemble.RandomForestClassifier(bootstrap=True, class_weight=None, criterion='gini',\n",
    "            max_depth=13, max_features='auto', max_leaf_nodes=None,\n",
    "            min_impurity_decrease=0.0, min_impurity_split=None,\n",
    "            min_samples_leaf=1, min_samples_split=2,\n",
    "            min_weight_fraction_leaf=0.0, n_estimators=64, n_jobs=-1,\n",
    "            oob_score=False, random_state=None, verbose=1,\n",
    "            warm_start=False)\n",
    "\n",
    "# Fit the best algorithm to the data. \n",
    "rfc.fit(X_train, y_train)\n"
   ]
  },
  {
   "cell_type": "code",
   "execution_count": 8,
   "metadata": {},
   "outputs": [
    {
     "name": "stderr",
     "output_type": "stream",
     "text": [
      "[Parallel(n_jobs=36)]: Using backend ThreadingBackend with 36 concurrent workers.\n",
      "[Parallel(n_jobs=36)]: Done  58 out of  64 | elapsed:    0.0s remaining:    0.0s\n",
      "[Parallel(n_jobs=36)]: Done  64 out of  64 | elapsed:    0.0s finished\n"
     ]
    },
    {
     "name": "stdout",
     "output_type": "stream",
     "text": [
      "Confusion Matrix\n",
      " Predicted      0   1    All\n",
      "True                       \n",
      "0          56645   4  56649\n",
      "1             19  78     97\n",
      "All        56664  82  56746\n",
      "RFC:\n",
      "               precision    recall  f1-score   support\n",
      "\n",
      "           0       1.00      1.00      1.00     56649\n",
      "           1       0.95      0.80      0.87        97\n",
      "\n",
      "   micro avg       1.00      1.00      1.00     56746\n",
      "   macro avg       0.98      0.90      0.94     56746\n",
      "weighted avg       1.00      1.00      1.00     56746\n",
      "\n",
      "AUC:  0.9020265505455644\n"
     ]
    }
   ],
   "source": [
    "y_pred = rfc.predict(X_test)\n",
    "print('Confusion Matrix\\n', pd.crosstab(y_test, y_pred, rownames=['True'], colnames=['Predicted'], margins=True))\n",
    "print('RFC:\\n', classification_report(y_test, y_pred, target_names=['0', '1']))\n",
    "fpr, tpr, thresholds = roc_curve(y_test, y_pred, pos_label=1)\n",
    "print('AUC: ', auc(fpr, tpr))\n"
   ]
  },
  {
   "cell_type": "code",
   "execution_count": 9,
   "metadata": {},
   "outputs": [
    {
     "name": "stderr",
     "output_type": "stream",
     "text": [
      "[Parallel(n_jobs=-1)]: Using backend LokyBackend with 36 concurrent workers.\n",
      "[Parallel(n_jobs=-1)]: Done   5 out of  10 | elapsed:   49.9s remaining:   49.9s\n",
      "[Parallel(n_jobs=-1)]: Done  10 out of  10 | elapsed:   49.9s finished\n"
     ]
    },
    {
     "name": "stdout",
     "output_type": "stream",
     "text": [
      "RFC: Input X --> Recall: 0.729 (+/- 0.321)\n"
     ]
    }
   ],
   "source": [
    "score = cross_val_score(rfc, X, y, cv=10, scoring='recall', n_jobs=-1, verbose=1)\n",
    "print(\"RFC: Input X --> Recall: %0.3f (+/- %0.3f)\" % (score.mean(), score.std() * 2))\n",
    "\n"
   ]
  },
  {
   "cell_type": "code",
   "execution_count": 10,
   "metadata": {},
   "outputs": [
    {
     "name": "stderr",
     "output_type": "stream",
     "text": [
      "[Parallel(n_jobs=-1)]: Using backend ThreadingBackend with 36 concurrent workers.\n",
      "[Parallel(n_jobs=-1)]: Done  58 out of  64 | elapsed:    4.6s remaining:    0.5s\n",
      "[Parallel(n_jobs=-1)]: Done  64 out of  64 | elapsed:    4.7s finished\n"
     ]
    },
    {
     "data": {
      "text/plain": [
       "RandomForestClassifier(bootstrap=True, class_weight=None, criterion='gini',\n",
       "            max_depth=13, max_features='auto', max_leaf_nodes=None,\n",
       "            min_impurity_decrease=0.0, min_impurity_split=None,\n",
       "            min_samples_leaf=1, min_samples_split=2,\n",
       "            min_weight_fraction_leaf=0.0, n_estimators=64, n_jobs=-1,\n",
       "            oob_score=False, random_state=None, verbose=1,\n",
       "            warm_start=False)"
      ]
     },
     "execution_count": 10,
     "metadata": {},
     "output_type": "execute_result"
    }
   ],
   "source": [
    "# Set the clf to the best combination of parameters\n",
    "#rfc = grid_obj.best_estimator_\n",
    "\n",
    "rfc = ensemble.RandomForestClassifier(bootstrap=True, class_weight=None, criterion='gini',\n",
    "            max_depth=13, max_features='auto', max_leaf_nodes=None,\n",
    "            min_impurity_decrease=0.0, min_impurity_split=None,\n",
    "            min_samples_leaf=1, min_samples_split=2,\n",
    "            min_weight_fraction_leaf=0.0, n_estimators=64, n_jobs=-1,\n",
    "            oob_score=False, random_state=None, verbose=1,\n",
    "            warm_start=False)\n",
    "\n",
    "# Fit the best algorithm to the data. \n",
    "rfc.fit(X_train, y_train)\n"
   ]
  },
  {
   "cell_type": "code",
   "execution_count": 11,
   "metadata": {},
   "outputs": [
    {
     "name": "stderr",
     "output_type": "stream",
     "text": [
      "[Parallel(n_jobs=36)]: Using backend ThreadingBackend with 36 concurrent workers.\n",
      "[Parallel(n_jobs=36)]: Done  58 out of  64 | elapsed:    0.0s remaining:    0.0s\n",
      "[Parallel(n_jobs=36)]: Done  64 out of  64 | elapsed:    0.0s finished\n"
     ]
    },
    {
     "name": "stdout",
     "output_type": "stream",
     "text": [
      "Confusion Matrix\n",
      " Predicted      0   1    All\n",
      "True                       \n",
      "0          56644   5  56649\n",
      "1             19  78     97\n",
      "All        56663  83  56746\n",
      "RFC:\n",
      "               precision    recall  f1-score   support\n",
      "\n",
      "           0       1.00      1.00      1.00     56649\n",
      "           1       0.94      0.80      0.87        97\n",
      "\n",
      "   micro avg       1.00      1.00      1.00     56746\n",
      "   macro avg       0.97      0.90      0.93     56746\n",
      "weighted avg       1.00      1.00      1.00     56746\n",
      "\n",
      "AUC:  0.9020177242644296\n"
     ]
    }
   ],
   "source": [
    "y_pred = rfc.predict(X_test)\n",
    "print('Confusion Matrix\\n', pd.crosstab(y_test, y_pred, rownames=['True'], colnames=['Predicted'], margins=True))\n",
    "print('RFC:\\n', classification_report(y_test, y_pred, target_names=['0', '1']))\n",
    "fpr, tpr, thresholds = roc_curve(y_test, y_pred, pos_label=1)\n",
    "print('AUC: ', auc(fpr, tpr))\n"
   ]
  },
  {
   "cell_type": "code",
   "execution_count": 12,
   "metadata": {},
   "outputs": [
    {
     "name": "stderr",
     "output_type": "stream",
     "text": [
      "[Parallel(n_jobs=-1)]: Using backend LokyBackend with 36 concurrent workers.\n",
      "[Parallel(n_jobs=-1)]: Done   5 out of  10 | elapsed:   49.9s remaining:   49.9s\n",
      "[Parallel(n_jobs=-1)]: Done  10 out of  10 | elapsed:   50.0s finished\n"
     ]
    },
    {
     "name": "stdout",
     "output_type": "stream",
     "text": [
      "RFC: Input X --> Recall: 0.740 (+/- 0.326)\n"
     ]
    }
   ],
   "source": [
    "score = cross_val_score(rfc, X, y, cv=10, scoring='recall', n_jobs=-1, verbose=1)\n",
    "print(\"RFC: Input X --> Recall: %0.3f (+/- %0.3f)\" % (score.mean(), score.std() * 2))\n",
    "\n"
   ]
  }
 ],
 "metadata": {
  "file_extension": ".py",
  "kernelspec": {
   "display_name": "Python 3",
   "language": "python",
   "name": "python3"
  },
  "language_info": {
   "codemirror_mode": {
    "name": "ipython",
    "version": 3
   },
   "file_extension": ".py",
   "mimetype": "text/x-python",
   "name": "python",
   "nbconvert_exporter": "python",
   "pygments_lexer": "ipython3",
   "version": "3.7.1"
  },
  "mimetype": "text/x-python",
  "name": "python",
  "npconvert_exporter": "python",
  "pygments_lexer": "ipython3",
  "version": 3
 },
 "nbformat": 4,
 "nbformat_minor": 2
}
