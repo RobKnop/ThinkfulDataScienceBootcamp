{
 "cells": [
  {
   "cell_type": "code",
   "execution_count": 1,
   "metadata": {
    "run_control": {
     "frozen": false,
     "read_only": false
    }
   },
   "outputs": [
    {
     "name": "stderr",
     "output_type": "stream",
     "text": [
      "/Library/Frameworks/Python.framework/Versions/3.7/lib/python3.7/site-packages/matplotlib/__init__.py:886: MatplotlibDeprecationWarning: \n",
      "examples.directory is deprecated; in the future, examples will be found relative to the 'datapath' directory.\n",
      "  \"found relative to the 'datapath' directory.\".format(key))\n"
     ]
    }
   ],
   "source": [
    "%matplotlib inline\n",
    "import numpy as np\n",
    "import pandas as pd\n",
    "import scipy\n",
    "import sklearn\n",
    "import matplotlib.pyplot as plt\n",
    "import seaborn as sns"
   ]
  },
  {
   "cell_type": "markdown",
   "metadata": {
    "run_control": {
     "frozen": false,
     "read_only": false
    }
   },
   "source": [
    "# Challenge: Evaluate Naive Bayes Classifiers\n",
    "\n",
    "Dataset: https://archive.ics.uci.edu/ml/datasets/Sentiment+Labelled+Sentences\n",
    "\n",
    "### Task\n",
    "Using the evaluation techniques we've covered here, look at your classifier's performance in more detail. Then go back and iterate by engineering new features, removing poor features, or tuning parameters. Repeat this process until you have five different versions of your classifier. Once you've iterated, answer these questions to compare the performance of each:\n",
    "\n",
    "* Do any of your classifiers seem to overfit?\n",
    "* Which seem to perform the best? Why?\n",
    "* Which features seemed to be most impactful to performance?\n",
    "Write up your iterations and answers to the above questions in a few pages. "
   ]
  },
  {
   "cell_type": "code",
   "execution_count": 2,
   "metadata": {
    "run_control": {
     "frozen": false,
     "read_only": false
    }
   },
   "outputs": [
    {
     "data": {
      "text/html": [
       "<div>\n",
       "<style scoped>\n",
       "    .dataframe tbody tr th:only-of-type {\n",
       "        vertical-align: middle;\n",
       "    }\n",
       "\n",
       "    .dataframe tbody tr th {\n",
       "        vertical-align: top;\n",
       "    }\n",
       "\n",
       "    .dataframe thead th {\n",
       "        text-align: right;\n",
       "    }\n",
       "</style>\n",
       "<table border=\"1\" class=\"dataframe\">\n",
       "  <thead>\n",
       "    <tr style=\"text-align: right;\">\n",
       "      <th></th>\n",
       "      <th>score</th>\n",
       "    </tr>\n",
       "  </thead>\n",
       "  <tbody>\n",
       "    <tr>\n",
       "      <th>count</th>\n",
       "      <td>1000.00000</td>\n",
       "    </tr>\n",
       "    <tr>\n",
       "      <th>mean</th>\n",
       "      <td>0.50000</td>\n",
       "    </tr>\n",
       "    <tr>\n",
       "      <th>std</th>\n",
       "      <td>0.50025</td>\n",
       "    </tr>\n",
       "    <tr>\n",
       "      <th>min</th>\n",
       "      <td>0.00000</td>\n",
       "    </tr>\n",
       "    <tr>\n",
       "      <th>25%</th>\n",
       "      <td>0.00000</td>\n",
       "    </tr>\n",
       "    <tr>\n",
       "      <th>50%</th>\n",
       "      <td>0.50000</td>\n",
       "    </tr>\n",
       "    <tr>\n",
       "      <th>75%</th>\n",
       "      <td>1.00000</td>\n",
       "    </tr>\n",
       "    <tr>\n",
       "      <th>max</th>\n",
       "      <td>1.00000</td>\n",
       "    </tr>\n",
       "  </tbody>\n",
       "</table>\n",
       "</div>"
      ],
      "text/plain": [
       "            score\n",
       "count  1000.00000\n",
       "mean      0.50000\n",
       "std       0.50025\n",
       "min       0.00000\n",
       "25%       0.00000\n",
       "50%       0.50000\n",
       "75%       1.00000\n",
       "max       1.00000"
      ]
     },
     "execution_count": 2,
     "metadata": {},
     "output_type": "execute_result"
    }
   ],
   "source": [
    "# Grab and process the raw data.\n",
    "amazon_raw = pd.read_csv('./datasets/sentiment_labelled_sentences/amazon_cells_labelled.txt', delimiter= '\\t', header=None)\n",
    "amazon_raw.columns = ['sent', 'score']\n",
    "\n",
    "amazon_raw.describe()"
   ]
  },
  {
   "cell_type": "code",
   "execution_count": 3,
   "metadata": {},
   "outputs": [],
   "source": [
    "def plot_confusion_matrix(y_true, y_pred, classes,\n",
    "                          normalize=False,\n",
    "                          title=None,\n",
    "                          cmap=plt.cm.Blues):\n",
    "    \"\"\"\n",
    "    This function prints and plots the confusion matrix.\n",
    "    Normalization can be applied by setting `normalize=True`.\n",
    "    \"\"\"\n",
    "    if not title:\n",
    "        if normalize:\n",
    "            title = 'Normalized confusion matrix'\n",
    "        else:\n",
    "            title = 'Confusion matrix, without normalization'\n",
    "\n",
    "    # Compute confusion matrix\n",
    "    cm = confusion_matrix(y_true, y_pred)\n",
    "    # Only use the labels that appear in the data\n",
    "    classes = classes[unique_labels(y_true, y_pred)]\n",
    "    if normalize:\n",
    "        cm = cm.astype('float') / cm.sum(axis=1)[:, np.newaxis]\n",
    "        print(\"Normalized confusion matrix\")\n",
    "    else:\n",
    "        print('Confusion matrix, without normalization')\n",
    "\n",
    "    print(cm)\n",
    "\n",
    "    fig, ax = plt.subplots()\n",
    "    im = ax.imshow(cm, interpolation='nearest', cmap=cmap)\n",
    "    ax.figure.colorbar(im, ax=ax)\n",
    "    # We want to show all ticks...\n",
    "    ax.set(xticks=np.arange(cm.shape[1]),\n",
    "           yticks=np.arange(cm.shape[0]),\n",
    "           # ... and label them with the respective list entries\n",
    "           xticklabels=classes, yticklabels=classes,\n",
    "           title=title,\n",
    "           ylabel='True label',\n",
    "           xlabel='Predicted label')\n",
    "\n",
    "    # Rotate the tick labels and set their alignment.\n",
    "    plt.setp(ax.get_xticklabels(), rotation=45, ha=\"right\",\n",
    "             rotation_mode=\"anchor\")\n",
    "\n",
    "    # Loop over data dimensions and create text annotations.\n",
    "    fmt = '.2f' if normalize else 'd'\n",
    "    thresh = cm.max() / 2.\n",
    "    for i in range(cm.shape[0]):\n",
    "        for j in range(cm.shape[1]):\n",
    "            ax.text(j, i, format(cm[i, j], fmt),\n",
    "                    ha=\"center\", va=\"center\",\n",
    "                    color=\"white\" if cm[i, j] > thresh else \"black\")\n",
    "    fig.tight_layout()\n",
    "    return ax"
   ]
  },
  {
   "cell_type": "markdown",
   "metadata": {
    "run_control": {
     "frozen": false,
     "read_only": false
    }
   },
   "source": [
    "### the Amazon dataset\n",
    "\n",
    "#### Iteration 0 - Baseline"
   ]
  },
  {
   "cell_type": "code",
   "execution_count": 4,
   "metadata": {
    "run_control": {
     "frozen": false,
     "read_only": false
    }
   },
   "outputs": [],
   "source": [
    "# find any keywords which are typically for each category \n",
    "keywords = ['Great', \n",
    "            'Excellent', \n",
    "            'excellent', \n",
    "            'good', \n",
    "            'Good', \n",
    "            'great', \n",
    "            'wast', \n",
    "            'Not Buy', \n",
    "            'poor', \n",
    "            'not work', \n",
    "            'disapoinment', \n",
    "            'glad', \n",
    "            'love',\n",
    "            'recommend',\n",
    "            'perfect',\n",
    "            'Unreliable',\n",
    "            'unreliable',\n",
    "            'happy',\n",
    "            'unhappy',\n",
    "            'best',\n",
    "            'excelent',\n",
    "            'Excelent',\n",
    "            'nice',\n",
    "            'fine']\n",
    "\n",
    "for key in keywords:\n",
    "    # Note that we add spaces around the key so that we're getting the word,\n",
    "    # not just pattern matching.\n",
    "    amazon_raw[str(key)] = amazon_raw.sent.str.contains(\n",
    "        str(key),\n",
    "        case=False\n",
    "    )\n",
    "\n",
    "amazon_data = amazon_raw[keywords]\n",
    "amazon_target = amazon_raw['score']\n",
    "\n",
    "# Our data is binary / boolean, so we're importing the Bernoulli classifier.\n",
    "from sklearn.naive_bayes import BernoulliNB\n",
    "\n",
    "# Instantiate our model and store it in a new variable.\n",
    "amazon_bnb = BernoulliNB()\n",
    "\n",
    "# Fit our model to the data.\n",
    "amazon_bnb.fit(amazon_data, amazon_target)\n",
    "\n",
    "# Classify, storing the result in a new variable.\n",
    "amazon_y_pred = amazon_bnb.predict(amazon_data)"
   ]
  },
  {
   "cell_type": "markdown",
   "metadata": {},
   "source": [
    "## Model Evaluation\n",
    "\n",
    "#### There is no class inbalance between negative and positive"
   ]
  },
  {
   "cell_type": "code",
   "execution_count": 5,
   "metadata": {},
   "outputs": [
    {
     "name": "stdout",
     "output_type": "stream",
     "text": [
      "Confusion matrix, without normalization\n",
      "[[468  32]\n",
      " [225 275]]\n"
     ]
    },
    {
     "data": {
      "image/png": "[encoded data removed]",
      "text/plain": [
       "<Figure size 432x288 with 2 Axes>"
      ]
     },
     "metadata": {
      "needs_background": "light"
     },
     "output_type": "display_data"
    },
    {
     "name": "stdout",
     "output_type": "stream",
     "text": [
      "Accuracy:  0.743\n",
      "Precision:  0.8957654723127035\n",
      "Recall:  0.55\n",
      "Average precision-recall score: 0.72\n"
     ]
    },
    {
     "data": {
      "image/png": "[encoded data removed]",
      "text/plain": [
       "<Figure size 432x288 with 1 Axes>"
      ]
     },
     "metadata": {
      "needs_background": "light"
     },
     "output_type": "display_data"
    }
   ],
   "source": [
    "from sklearn.metrics import precision_recall_curve\n",
    "from sklearn.utils.fixes import signature\n",
    "from sklearn.utils.multiclass import unique_labels\n",
    "from sklearn.metrics import average_precision_score, precision_score, recall_score, accuracy_score, confusion_matrix\n",
    "plot_confusion_matrix(amazon_target, amazon_y_pred,  np.array(['neg', 'pos']))\n",
    "plt.show()\n",
    "print(\"Accuracy: \", accuracy_score(amazon_target, amazon_y_pred))\n",
    "print(\"Precision: \", precision_score(amazon_target, amazon_y_pred))\n",
    "print(\"Recall: \", recall_score(amazon_target, amazon_y_pred))\n",
    "\n",
    "average_precision = average_precision_score(amazon_target, amazon_y_pred)\n",
    "\n",
    "print('Average precision-recall score: {0:0.2f}'.format(\n",
    "      average_precision))\n",
    "\n",
    "precision, recall, _ = precision_recall_curve(amazon_target, amazon_y_pred)\n",
    "\n",
    "# In matplotlib < 1.5, plt.fill_between does not have a 'step' argument\n",
    "step_kwargs = ({'step': 'post'}\n",
    "               if 'step' in signature(plt.fill_between).parameters\n",
    "               else {})\n",
    "plt.step(recall, precision, color='b', alpha=0.2,\n",
    "         where='post')\n",
    "plt.fill_between(recall, precision, alpha=0.2, color='b', **step_kwargs)\n",
    "\n",
    "plt.xlabel('Recall')\n",
    "plt.ylabel('Precision')\n",
    "plt.ylim([0.0, 1.05])\n",
    "plt.xlim([0.0, 1.0])\n",
    "plt.title('2-class Precision-Recall curve: AP={0:0.2f}'.format(\n",
    "          average_precision))\n",
    "plt.show()"
   ]
  },
  {
   "cell_type": "markdown",
   "metadata": {},
   "source": [
    "#### Holdout method:"
   ]
  },
  {
   "cell_type": "code",
   "execution_count": 6,
   "metadata": {},
   "outputs": [
    {
     "name": "stdout",
     "output_type": "stream",
     "text": [
      "With 20% Holdout: 0.735\n",
      "Testing on Sample: 0.743\n"
     ]
    }
   ],
   "source": [
    "# Test your model with different holdout groups.\n",
    "\n",
    "from sklearn.model_selection import train_test_split\n",
    "# Use train_test_split to create the necessary training and test groups\n",
    "X_train, X_test, y_train, y_test = train_test_split(amazon_data, amazon_target, test_size=0.2, random_state=20)\n",
    "print('With 20% Holdout: ' + str(amazon_bnb.fit(X_train, y_train).score(X_test, y_test)))\n",
    "print('Testing on Sample: ' + str(amazon_bnb.fit(amazon_data, amazon_target).score(amazon_data, amazon_target)))"
   ]
  },
  {
   "cell_type": "code",
   "execution_count": 7,
   "metadata": {},
   "outputs": [
    {
     "data": {
      "text/plain": [
       "array([0.81, 0.76, 0.82, 0.7 , 0.76, 0.72, 0.69, 0.67, 0.78, 0.66])"
      ]
     },
     "execution_count": 7,
     "metadata": {},
     "output_type": "execute_result"
    }
   ],
   "source": [
    "from sklearn.model_selection import cross_val_score\n",
    "cross_val_score(amazon_bnb, amazon_data, amazon_target, cv=10)"
   ]
  },
  {
   "cell_type": "markdown",
   "metadata": {},
   "source": [
    "#### Iteration 1 - More Keywords"
   ]
  },
  {
   "cell_type": "code",
   "execution_count": 8,
   "metadata": {},
   "outputs": [
    {
     "name": "stdout",
     "output_type": "stream",
     "text": [
      "Confusion matrix, without normalization\n",
      "[[468  32]\n",
      " [225 275]]\n"
     ]
    },
    {
     "data": {
      "image/png": "[encoded data removed]",
      "text/plain": [
       "<Figure size 432x288 with 2 Axes>"
      ]
     },
     "metadata": {
      "needs_background": "light"
     },
     "output_type": "display_data"
    },
    {
     "name": "stdout",
     "output_type": "stream",
     "text": [
      "Accuracy:  0.743\n",
      "Precision:  0.8957654723127035\n",
      "Recall:  0.55\n"
     ]
    },
    {
     "data": {
      "image/png": "[encoded data removed]",
      "text/plain": [
       "<Figure size 432x288 with 1 Axes>"
      ]
     },
     "metadata": {
      "needs_background": "light"
     },
     "output_type": "display_data"
    },
    {
     "name": "stdout",
     "output_type": "stream",
     "text": [
      "With 20% Holdout: 0.735\n",
      "Testing on Sample: 0.743\n"
     ]
    }
   ],
   "source": [
    "# Reset\n",
    "amazon_raw = pd.read_csv('./datasets/sentiment_labelled_sentences/amazon_cells_labelled.txt', delimiter= '\\t', header=None)\n",
    "amazon_raw.columns = ['sent', 'score']\n",
    "# find any keywords which are typically for each category \n",
    "keywords = ['Great', \n",
    "            'Excellent', \n",
    "            'excellent', \n",
    "            'good', \n",
    "            'Good', \n",
    "            'great', \n",
    "            'wast', \n",
    "            'Not Buy', \n",
    "            'poor', \n",
    "            'not work', \n",
    "            'disapoinment', \n",
    "            'glad', \n",
    "            'love',\n",
    "            'recommend',\n",
    "            'perfect',\n",
    "            'Unreliable',\n",
    "            'unreliable',\n",
    "            'happy',\n",
    "            'unhappy',\n",
    "            'best',\n",
    "            'excelent',\n",
    "            'Excelent',\n",
    "            'nice',\n",
    "            'fine',\n",
    "            'loved',\n",
    "            'unacceptible',\n",
    "            'negative',\n",
    "            'fun',\n",
    "            'best',\n",
    "            'worst',\n",
    "            'disapoinment',\n",
    "            'favorite',\n",
    "            'mistake']\n",
    "\n",
    "for key in keywords:\n",
    "    # Note that we add spaces around the key so that we're getting the word,\n",
    "    # not just pattern matching.\n",
    "    amazon_raw[str(key)] = amazon_raw.sent.str.contains(\n",
    "        str(key),\n",
    "        case=False\n",
    "    )\n",
    "\n",
    "amazon_data = amazon_raw[keywords]\n",
    "amazon_target = amazon_raw['score']\n",
    "\n",
    "# Instantiate our model and store it in a new variable.\n",
    "amazon_bnb = BernoulliNB()\n",
    "\n",
    "# Fit our model to the data.\n",
    "amazon_bnb.fit(amazon_data, amazon_target)\n",
    "\n",
    "# Classify, storing the result in a new variable.\n",
    "amazon_y_pred = amazon_bnb.predict(amazon_data)\n",
    "\n",
    "plot_confusion_matrix(amazon_target, amazon_y_pred,  np.array(['neg', 'pos']))\n",
    "plt.show()\n",
    "print(\"Accuracy: \", accuracy_score(amazon_target, amazon_y_pred))\n",
    "print(\"Precision: \", precision_score(amazon_target, amazon_y_pred))\n",
    "print(\"Recall: \", recall_score(amazon_target, amazon_y_pred))\n",
    "\n",
    "\n",
    "precision, recall, _ = precision_recall_curve(amazon_target, amazon_y_pred)\n",
    "\n",
    "# In matplotlib < 1.5, plt.fill_between does not have a 'step' argument\n",
    "step_kwargs = ({'step': 'post'}\n",
    "               if 'step' in signature(plt.fill_between).parameters\n",
    "               else {})\n",
    "plt.step(recall, precision, color='b', alpha=0.2,\n",
    "         where='post')\n",
    "plt.fill_between(recall, precision, alpha=0.2, color='b', **step_kwargs)\n",
    "\n",
    "plt.xlabel('Recall')\n",
    "plt.ylabel('Precision')\n",
    "plt.ylim([0.0, 1.05])\n",
    "plt.xlim([0.0, 1.0])\n",
    "plt.title('2-class Precision-Recall curve: AP={0:0.2f}'.format(\n",
    "          average_precision))\n",
    "plt.show()\n",
    "\n",
    "# Test your model with different holdout groups.\n",
    "# Use train_test_split to create the necessary training and test groups\n",
    "X_train, X_test, y_train, y_test = train_test_split(amazon_data, amazon_target, test_size=0.2, random_state=20)\n",
    "print('With 20% Holdout: ' + str(amazon_bnb.fit(X_train, y_train).score(X_test, y_test)))\n",
    "print('Testing on Sample: ' + str(amazon_bnb.fit(amazon_data, amazon_target).score(amazon_data, amazon_target)))"
   ]
  },
  {
   "cell_type": "markdown",
   "metadata": {},
   "source": [
    "Even with more keywords no metric has changed for the better. "
   ]
  },
  {
   "cell_type": "markdown",
   "metadata": {},
   "source": [
    "#### Iteration 2 - More Keywords\n",
    "Because all the new keywords are worthless features, we can get rid of them. \n",
    "But keep in mind, if you get more data these worthless features can become valuable again. "
   ]
  },
  {
   "cell_type": "code",
   "execution_count": 9,
   "metadata": {},
   "outputs": [],
   "source": [
    "# Reset\n",
    "amazon_raw = pd.read_csv('./datasets/sentiment_labelled_sentences/amazon_cells_labelled.txt', delimiter= '\\t', header=None)\n",
    "amazon_raw.columns = ['sent', 'score']\n",
    "# find any keywords which are typically for each category \n",
    "keywords = ['Great', \n",
    "            'Excellent', \n",
    "            'excellent', \n",
    "            'good', \n",
    "            'Good', \n",
    "            'great', \n",
    "            'wast', \n",
    "            'Not Buy', \n",
    "            'poor', \n",
    "            'not work', \n",
    "            'disapoinment', \n",
    "            'glad', \n",
    "            'love',\n",
    "            'recommend',\n",
    "            'perfect',\n",
    "            'Unreliable',\n",
    "            'unreliable',\n",
    "            'happy',\n",
    "            'unhappy',\n",
    "            'best',\n",
    "            'excelent',\n",
    "            'Excelent',\n",
    "            'nice',\n",
    "            'fine']\n",
    "\n",
    "for key in keywords:\n",
    "    # Note that we add spaces around the key so that we're getting the word,\n",
    "    # not just pattern matching.\n",
    "    amazon_raw[str(key)] = amazon_raw.sent.str.contains(\n",
    "        str(key),\n",
    "        case=False\n",
    "    )\n",
    "\n",
    "amazon_data = amazon_raw[keywords]\n",
    "amazon_target = amazon_raw['score']"
   ]
  },
  {
   "cell_type": "markdown",
   "metadata": {},
   "source": [
    "#### Iteration 3 - Better Keywords\n",
    "Get rid of some more keywords which won't contribute for a better model performance."
   ]
  },
  {
   "cell_type": "code",
   "execution_count": 10,
   "metadata": {},
   "outputs": [
    {
     "name": "stdout",
     "output_type": "stream",
     "text": [
      "Confusion matrix, without normalization\n",
      "[[474  26]\n",
      " [241 259]]\n"
     ]
    },
    {
     "data": {
      "image/png": "[encoded data removed]",
      "text/plain": [
       "<Figure size 432x288 with 2 Axes>"
      ]
     },
     "metadata": {
      "needs_background": "light"
     },
     "output_type": "display_data"
    },
    {
     "name": "stdout",
     "output_type": "stream",
     "text": [
      "Accuracy:  0.733\n",
      "Precision:  0.9087719298245615\n",
      "Recall:  0.518\n"
     ]
    },
    {
     "data": {
      "image/png": "[encoded data removed]",
      "text/plain": [
       "<Figure size 432x288 with 1 Axes>"
      ]
     },
     "metadata": {
      "needs_background": "light"
     },
     "output_type": "display_data"
    },
    {
     "name": "stdout",
     "output_type": "stream",
     "text": [
      "With 20% Holdout: 0.715\n",
      "Testing on Sample: 0.733\n"
     ]
    }
   ],
   "source": [
    "# Reset\n",
    "amazon_raw = pd.read_csv('./datasets/sentiment_labelled_sentences/amazon_cells_labelled.txt', delimiter= '\\t', header=None)\n",
    "amazon_raw.columns = ['sent', 'score']\n",
    "# find any keywords which are typically for each category \n",
    "keywords = ['Great', \n",
    "            'Excellent', \n",
    "            'excellent', \n",
    "            'good', \n",
    "            'Good', \n",
    "            'great', \n",
    "            'wast', \n",
    "            'Not Buy', \n",
    "            'poor', \n",
    "            'not work', \n",
    "            'disapoinment', \n",
    "            'glad', \n",
    "            'love', # helps\n",
    "            #'recommend', precsion gets better, recall gets worse\n",
    "            'perfect', # helps\n",
    "            #'Unreliable', # is not helping\n",
    "            #'unreliable', # is not helping\n",
    "            'happy',\n",
    "            'unhappy', # helps\n",
    "            'best', # helps\n",
    "            'excelent', # helps a tiny bit\n",
    "            'Excelent', # helps a tiny bit\n",
    "            'nice', # helps\n",
    "            'fine'] # helps\n",
    "\n",
    "for key in keywords:\n",
    "    # Note that we add spaces around the key so that we're getting the word,\n",
    "    # not just pattern matching.\n",
    "    amazon_raw[str(key)] = amazon_raw.sent.str.contains(\n",
    "        str(key),\n",
    "        case=False\n",
    "    )\n",
    "\n",
    "amazon_data = amazon_raw[keywords]\n",
    "amazon_target = amazon_raw['score']\n",
    "\n",
    "# Instantiate our model and store it in a new variable.\n",
    "amazon_bnb = BernoulliNB()\n",
    "\n",
    "# Fit our model to the data.\n",
    "amazon_bnb.fit(amazon_data, amazon_target)\n",
    "\n",
    "# Classify, storing the result in a new variable.\n",
    "amazon_y_pred = amazon_bnb.predict(amazon_data)\n",
    "\n",
    "plot_confusion_matrix(amazon_target, amazon_y_pred,  np.array(['neg', 'pos']))\n",
    "plt.show()\n",
    "print(\"Accuracy: \", accuracy_score(amazon_target, amazon_y_pred))\n",
    "print(\"Precision: \", precision_score(amazon_target, amazon_y_pred))\n",
    "print(\"Recall: \", recall_score(amazon_target, amazon_y_pred))\n",
    "\n",
    "\n",
    "precision, recall, _ = precision_recall_curve(amazon_target, amazon_y_pred)\n",
    "\n",
    "# In matplotlib < 1.5, plt.fill_between does not have a 'step' argument\n",
    "step_kwargs = ({'step': 'post'}\n",
    "               if 'step' in signature(plt.fill_between).parameters\n",
    "               else {})\n",
    "plt.step(recall, precision, color='b', alpha=0.2,\n",
    "         where='post')\n",
    "plt.fill_between(recall, precision, alpha=0.2, color='b', **step_kwargs)\n",
    "\n",
    "plt.xlabel('Recall')\n",
    "plt.ylabel('Precision')\n",
    "plt.ylim([0.0, 1.05])\n",
    "plt.xlim([0.0, 1.0])\n",
    "plt.title('2-class Precision-Recall curve: AP={0:0.2f}'.format(\n",
    "          average_precision))\n",
    "plt.show()\n",
    "\n",
    "# Test your model with different holdout groups.\n",
    "# Use train_test_split to create the necessary training and test groups\n",
    "X_train, X_test, y_train, y_test = train_test_split(amazon_data, amazon_target, test_size=0.2, random_state=20)\n",
    "print('With 20% Holdout: ' + str(amazon_bnb.fit(X_train, y_train).score(X_test, y_test)))\n",
    "print('Testing on Sample: ' + str(amazon_bnb.fit(amazon_data, amazon_target).score(amazon_data, amazon_target)))"
   ]
  },
  {
   "cell_type": "markdown",
   "metadata": {},
   "source": [
    "#### Iteration 4 - other Naive Bayes type\n",
    "1. GaussianNB\n",
    "2. MultinomialNB"
   ]
  },
  {
   "cell_type": "code",
   "execution_count": 11,
   "metadata": {},
   "outputs": [
    {
     "name": "stdout",
     "output_type": "stream",
     "text": [
      "Confusion matrix, without normalization\n",
      "[[474  26]\n",
      " [241 259]]\n"
     ]
    },
    {
     "data": {
      "image/png": "[encoded data removed]",
      "text/plain": [
       "<Figure size 432x288 with 2 Axes>"
      ]
     },
     "metadata": {
      "needs_background": "light"
     },
     "output_type": "display_data"
    },
    {
     "name": "stdout",
     "output_type": "stream",
     "text": [
      "Accuracy:  0.733\n",
      "Precision:  0.9087719298245615\n",
      "Recall:  0.518\n"
     ]
    },
    {
     "data": {
      "image/png": "[encoded data removed]",
      "text/plain": [
       "<Figure size 432x288 with 1 Axes>"
      ]
     },
     "metadata": {
      "needs_background": "light"
     },
     "output_type": "display_data"
    },
    {
     "name": "stdout",
     "output_type": "stream",
     "text": [
      "With 20% Holdout: 0.715\n",
      "Testing on Sample: 0.733\n"
     ]
    }
   ],
   "source": [
    "# Reset\n",
    "amazon_raw = pd.read_csv('./datasets/sentiment_labelled_sentences/amazon_cells_labelled.txt', delimiter= '\\t', header=None)\n",
    "amazon_raw.columns = ['sent', 'score']\n",
    "# find any keywords which are typically for each category \n",
    "keywords = ['Great', \n",
    "            'Excellent', \n",
    "            'excellent', \n",
    "            'good', \n",
    "            'Good', \n",
    "            'great', \n",
    "            'wast', \n",
    "            'Not Buy', \n",
    "            'poor', \n",
    "            'not work', \n",
    "            'disapoinment', \n",
    "            'glad', \n",
    "            'love', # helps\n",
    "            #'recommend', precsion gets better, recall gets worse\n",
    "            'perfect', # helps\n",
    "            #'Unreliable', # is not helping\n",
    "            #'unreliable', # is not helping\n",
    "            'happy',\n",
    "            'unhappy', # helps\n",
    "            'best', # helps\n",
    "            'excelent', # helps a tiny bit\n",
    "            'Excelent', # helps a tiny bit\n",
    "            'nice', # helps\n",
    "            'fine'] # helps\n",
    "\n",
    "for key in keywords:\n",
    "    # Note that we add spaces around the key so that we're getting the word,\n",
    "    # not just pattern matching.\n",
    "    amazon_raw[str(key)] = amazon_raw.sent.str.contains(\n",
    "        str(key),\n",
    "        case=False\n",
    "    )\n",
    "\n",
    "amazon_data = amazon_raw[keywords]\n",
    "amazon_target = amazon_raw['score']\n",
    "\n",
    "# Instantiate our model and store it in a new variable.\n",
    "from sklearn.naive_bayes import GaussianNB\n",
    "amazon_bnb = GaussianNB()\n",
    "\n",
    "# Fit our model to the data.\n",
    "amazon_bnb.fit(amazon_data, amazon_target)\n",
    "\n",
    "# Classify, storing the result in a new variable.\n",
    "amazon_y_pred = amazon_bnb.predict(amazon_data)\n",
    "\n",
    "plot_confusion_matrix(amazon_target, amazon_y_pred,  np.array(['neg', 'pos']))\n",
    "plt.show()\n",
    "print(\"Accuracy: \", accuracy_score(amazon_target, amazon_y_pred))\n",
    "print(\"Precision: \", precision_score(amazon_target, amazon_y_pred))\n",
    "print(\"Recall: \", recall_score(amazon_target, amazon_y_pred))\n",
    "\n",
    "\n",
    "precision, recall, _ = precision_recall_curve(amazon_target, amazon_y_pred)\n",
    "\n",
    "# In matplotlib < 1.5, plt.fill_between does not have a 'step' argument\n",
    "step_kwargs = ({'step': 'post'}\n",
    "               if 'step' in signature(plt.fill_between).parameters\n",
    "               else {})\n",
    "plt.step(recall, precision, color='b', alpha=0.2,\n",
    "         where='post')\n",
    "plt.fill_between(recall, precision, alpha=0.2, color='b', **step_kwargs)\n",
    "\n",
    "plt.xlabel('Recall')\n",
    "plt.ylabel('Precision')\n",
    "plt.ylim([0.0, 1.05])\n",
    "plt.xlim([0.0, 1.0])\n",
    "plt.title('2-class Precision-Recall curve: AP={0:0.2f}'.format(\n",
    "          average_precision))\n",
    "plt.show()\n",
    "\n",
    "# Test your model with different holdout groups.\n",
    "# Use train_test_split to create the necessary training and test groups\n",
    "X_train, X_test, y_train, y_test = train_test_split(amazon_data, amazon_target, test_size=0.2, random_state=20)\n",
    "print('With 20% Holdout: ' + str(amazon_bnb.fit(X_train, y_train).score(X_test, y_test)))\n",
    "print('Testing on Sample: ' + str(amazon_bnb.fit(amazon_data, amazon_target).score(amazon_data, amazon_target)))"
   ]
  },
  {
   "cell_type": "code",
   "execution_count": 12,
   "metadata": {},
   "outputs": [
    {
     "name": "stdout",
     "output_type": "stream",
     "text": [
      "Confusion matrix, without normalization\n",
      "[[476  24]\n",
      " [255 245]]\n"
     ]
    },
    {
     "data": {
      "image/png": "[encoded data removed]",
      "text/plain": [
       "<Figure size 432x288 with 2 Axes>"
      ]
     },
     "metadata": {
      "needs_background": "light"
     },
     "output_type": "display_data"
    },
    {
     "name": "stdout",
     "output_type": "stream",
     "text": [
      "Accuracy:  0.721\n",
      "Precision:  0.9107806691449815\n",
      "Recall:  0.49\n"
     ]
    },
    {
     "data": {
      "image/png": "[encoded data removed]",
      "text/plain": [
       "<Figure size 432x288 with 1 Axes>"
      ]
     },
     "metadata": {
      "needs_background": "light"
     },
     "output_type": "display_data"
    },
    {
     "name": "stdout",
     "output_type": "stream",
     "text": [
      "With 20% Holdout: 0.65\n",
      "Testing on Sample: 0.721\n"
     ]
    }
   ],
   "source": [
    "# Reset\n",
    "amazon_raw = pd.read_csv('./datasets/sentiment_labelled_sentences/amazon_cells_labelled.txt', delimiter= '\\t', header=None)\n",
    "amazon_raw.columns = ['sent', 'score']\n",
    "# find any keywords which are typically for each category \n",
    "keywords = ['Great', \n",
    "            'Excellent', \n",
    "            'excellent', \n",
    "            'good', \n",
    "            'Good', \n",
    "            'great', \n",
    "            'wast', \n",
    "            'Not Buy', \n",
    "            'poor', \n",
    "            'not work', \n",
    "            'disapoinment', \n",
    "            'glad', \n",
    "            'love', # helps\n",
    "            #'recommend', precsion gets better, recall gets worse\n",
    "            'perfect', # helps\n",
    "            #'Unreliable', # is not helping\n",
    "            #'unreliable', # is not helping\n",
    "            'happy',\n",
    "            'unhappy', # helps\n",
    "            'best', # helps\n",
    "            'excelent', # helps a tiny bit\n",
    "            'Excelent', # helps a tiny bit\n",
    "            'nice', # helps\n",
    "            'fine'] # helps\n",
    "\n",
    "for key in keywords:\n",
    "    # Note that we add spaces around the key so that we're getting the word,\n",
    "    # not just pattern matching.\n",
    "    amazon_raw[str(key)] = amazon_raw.sent.str.contains(\n",
    "        str(key),\n",
    "        case=False\n",
    "    )\n",
    "\n",
    "amazon_data = amazon_raw[keywords]\n",
    "amazon_target = amazon_raw['score']\n",
    "\n",
    "# Instantiate our model and store it in a new variable.\n",
    "from sklearn.naive_bayes import MultinomialNB\n",
    "amazon_bnb = MultinomialNB()\n",
    "\n",
    "# Fit our model to the data.\n",
    "amazon_bnb.fit(amazon_data, amazon_target)\n",
    "\n",
    "# Classify, storing the result in a new variable.\n",
    "amazon_y_pred = amazon_bnb.predict(amazon_data)\n",
    "\n",
    "plot_confusion_matrix(amazon_target, amazon_y_pred,  np.array(['neg', 'pos']))\n",
    "plt.show()\n",
    "print(\"Accuracy: \", accuracy_score(amazon_target, amazon_y_pred))\n",
    "print(\"Precision: \", precision_score(amazon_target, amazon_y_pred))\n",
    "print(\"Recall: \", recall_score(amazon_target, amazon_y_pred))\n",
    "\n",
    "\n",
    "precision, recall, _ = precision_recall_curve(amazon_target, amazon_y_pred)\n",
    "\n",
    "# In matplotlib < 1.5, plt.fill_between does not have a 'step' argument\n",
    "step_kwargs = ({'step': 'post'}\n",
    "               if 'step' in signature(plt.fill_between).parameters\n",
    "               else {})\n",
    "plt.step(recall, precision, color='b', alpha=0.2,\n",
    "         where='post')\n",
    "plt.fill_between(recall, precision, alpha=0.2, color='b', **step_kwargs)\n",
    "\n",
    "plt.xlabel('Recall')\n",
    "plt.ylabel('Precision')\n",
    "plt.ylim([0.0, 1.05])\n",
    "plt.xlim([0.0, 1.0])\n",
    "plt.title('2-class Precision-Recall curve: AP={0:0.2f}'.format(\n",
    "          average_precision))\n",
    "plt.show()\n",
    "\n",
    "# Test your model with different holdout groups.\n",
    "# Use train_test_split to create the necessary training and test groups\n",
    "X_train, X_test, y_train, y_test = train_test_split(amazon_data, amazon_target, test_size=0.2, random_state=20)\n",
    "print('With 20% Holdout: ' + str(amazon_bnb.fit(X_train, y_train).score(X_test, y_test)))\n",
    "print('Testing on Sample: ' + str(amazon_bnb.fit(amazon_data, amazon_target).score(amazon_data, amazon_target)))"
   ]
  },
  {
   "cell_type": "markdown",
   "metadata": {},
   "source": [
    "#### !!! MultinomialNB got even worse. GaussianNB had to impact. !!!\n",
    "\n",
    "#### !!! With less keywords the holdout group model accuracy gets worse --> no overfitting yet !!!"
   ]
  }
 ],
 "metadata": {
  "hide_input": false,
  "kernelspec": {
   "display_name": "Python 3",
   "language": "python",
   "name": "python3"
  },
  "language_info": {
   "codemirror_mode": {
    "name": "ipython",
    "version": 3
   },
   "file_extension": ".py",
   "mimetype": "text/x-python",
   "name": "python",
   "nbconvert_exporter": "python",
   "pygments_lexer": "ipython3",
   "version": "3.7.1"
  },
  "toc": {
   "colors": {
    "hover_highlight": "#DAA520",
    "running_highlight": "#FF0000",
    "selected_highlight": "#FFD700"
   },
   "moveMenuLeft": true,
   "nav_menu": {
    "height": "49px",
    "width": "252px"
   },
   "navigate_menu": true,
   "number_sections": true,
   "sideBar": true,
   "threshold": 4,
   "toc_cell": false,
   "toc_section_display": "block",
   "toc_window_display": false
  }
 },
 "nbformat": 4,
 "nbformat_minor": 2
}
